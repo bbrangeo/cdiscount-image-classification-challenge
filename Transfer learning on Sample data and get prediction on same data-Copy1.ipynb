{
 "cells": [
  {
   "cell_type": "code",
   "execution_count": 1,
   "metadata": {
    "collapsed": true
   },
   "outputs": [],
   "source": [
    "import pymongo\n",
    "from pymongo import MongoClient\n",
    "client = MongoClient()\n",
    "client = MongoClient('localhost', 27017)\n",
    "# client = MongoClient('mongodb://localhost:27017/')\n",
    "db = client.db_cdiscount"
   ]
  },
  {
   "cell_type": "code",
   "execution_count": 2,
   "metadata": {
    "collapsed": true
   },
   "outputs": [],
   "source": [
    "import io\n",
    "import bson                       # this is installed with the pymongo package\n",
    "import matplotlib.pyplot as plt\n",
    "from skimage.data import imread   # or, whatever image library you prefer\n",
    "import multiprocessing as mp      # will come in handy due to the size of the data"
   ]
  },
  {
   "cell_type": "code",
   "execution_count": 3,
   "metadata": {
    "collapsed": true
   },
   "outputs": [],
   "source": [
    "import numpy as np\n",
    "import scipy"
   ]
  },
  {
   "cell_type": "code",
   "execution_count": 4,
   "metadata": {},
   "outputs": [
    {
     "name": "stderr",
     "output_type": "stream",
     "text": [
      "Using TensorFlow backend.\n"
     ]
    }
   ],
   "source": [
    "from keras.models import Sequential\n",
    "from keras.layers import Dense, Activation\n",
    "from keras.layers import Dropout\n",
    "from keras.layers import Flatten\n",
    "from keras.constraints import maxnorm\n",
    "from keras.optimizers import SGD\n",
    "from keras.layers.convolutional import Conv2D\n",
    "from keras.layers.convolutional import MaxPooling2D\n",
    "from keras.utils import np_utils\n",
    "from keras import backend as K\n",
    "import keras\n",
    "K.set_image_dim_ordering('th')\n",
    "\n",
    "from keras import regularizers"
   ]
  },
  {
   "cell_type": "code",
   "execution_count": 7,
   "metadata": {
    "collapsed": true
   },
   "outputs": [],
   "source": [
    "from keras.applications.inception_v3 import InceptionV3\n",
    "from keras.preprocessing import image\n",
    "from keras.models import Model\n",
    "from keras.layers import Dense, GlobalAveragePooling2D\n",
    "from keras import backend as K"
   ]
  },
  {
   "cell_type": "code",
   "execution_count": null,
   "metadata": {
    "collapsed": true
   },
   "outputs": [],
   "source": []
  },
  {
   "cell_type": "code",
   "execution_count": 8,
   "metadata": {},
   "outputs": [
    {
     "name": "stderr",
     "output_type": "stream",
     "text": [
      "C:\\Users\\hamza\\Anaconda3\\lib\\site-packages\\keras\\applications\\inception_v3.py:363: UserWarning: You are using the TensorFlow backend, yet you are using the Theano image data format convention (`image_data_format=\"channels_first\"`). For best performance, set `image_data_format=\"channels_last\"` in your Keras config at ~/.keras/keras.json.\n",
      "  warnings.warn('You are using the TensorFlow backend, yet you '\n"
     ]
    }
   ],
   "source": [
    "# create the base pre-trained model\n",
    "base_model = InceptionV3(weights='imagenet', include_top=False)"
   ]
  },
  {
   "cell_type": "code",
   "execution_count": null,
   "metadata": {
    "collapsed": true
   },
   "outputs": [],
   "source": [
    "first = 0\n",
    "last = 10\n",
    "batch = 4\n",
    "num_batch = int(last/batch)\n",
    "# last = 82\n"
   ]
  },
  {
   "cell_type": "code",
   "execution_count": null,
   "metadata": {
    "collapsed": true
   },
   "outputs": [],
   "source": [
    "epochs = 10\n",
    "batch_size = 16\n",
    "num_classes = db.cat_encode.count()"
   ]
  },
  {
   "cell_type": "code",
   "execution_count": null,
   "metadata": {
    "collapsed": true
   },
   "outputs": [],
   "source": [
    "x = base_model.output\n",
    "x = GlobalAveragePooling2D()(x)\n",
    "# let's add a fully-connected layer\n",
    "x = Dense(1024, activation='relu')(x)\n",
    "# and a logistic layer -- let's say we have 9 class\n",
    "predictions = Dense(num_classes, activation='softmax')(x)"
   ]
  },
  {
   "cell_type": "code",
   "execution_count": null,
   "metadata": {
    "collapsed": true
   },
   "outputs": [],
   "source": [
    "# this is the model we will train\n",
    "model = Model(inputs=base_model.input, outputs=predictions)"
   ]
  },
  {
   "cell_type": "code",
   "execution_count": null,
   "metadata": {
    "collapsed": true
   },
   "outputs": [],
   "source": [
    "# first: train only the top layers (which were randomly initialized)\n",
    "# i.e. freeze all convolutional InceptionV3 layers\n",
    "for layer in base_model.layers:\n",
    "    layer.trainable = False"
   ]
  },
  {
   "cell_type": "code",
   "execution_count": null,
   "metadata": {
    "collapsed": true
   },
   "outputs": [],
   "source": [
    "# compile the model (should be done *after* setting layers to non-trainable)\n",
    "model.compile(optimizer='rmsprop', loss='categorical_crossentropy')"
   ]
  },
  {
   "cell_type": "code",
   "execution_count": null,
   "metadata": {
    "collapsed": true
   },
   "outputs": [],
   "source": []
  },
  {
   "cell_type": "code",
   "execution_count": null,
   "metadata": {
    "collapsed": true
   },
   "outputs": [],
   "source": [
    "cur = db.train.find({}).limit(1)\n",
    "idx = cur.next()\n",
    "\n",
    "import scipy\n",
    "\n",
    "picture = (imread(io.BytesIO(idx['imgs'][0]['picture'])))\n",
    "picture  = np.float32(scipy.misc.imresize(picture, (150,150), interp='bilinear', mode=None)/255.0)\n",
    "print(picture.shape)\n",
    "# picture = picture.resize((224,244,3))\n",
    "print(type(picture))\n",
    "\n",
    "plt.imshow(picture)\n",
    "plt.show()\n"
   ]
  },
  {
   "cell_type": "code",
   "execution_count": null,
   "metadata": {
    "collapsed": true
   },
   "outputs": [],
   "source": [
    "import time"
   ]
  },
  {
   "cell_type": "code",
   "execution_count": null,
   "metadata": {
    "collapsed": true
   },
   "outputs": [],
   "source": [
    "start_time = time.time()\n",
    "print('start code')\n",
    "counter = 0\n",
    "row_count = 0\n",
    "for j in range(0,num_batch-1):\n",
    "# for j in range(0,1):\n",
    "    batch_time = time.time()\n",
    "    a1 = int(list(np.linspace(first,last,num_batch))[j])\n",
    "    an = int(list(np.linspace(first,last,num_batch))[j+1])\n",
    "    \n",
    "    lst_batch = []\n",
    "    \n",
    "    print(a1,an)\n",
    "    \n",
    "    cur = db.train.find({})[a1:an]\n",
    "    \n",
    "    m= an-a1\n",
    "        \n",
    "    i = 0\n",
    "#     pic_array\n",
    "    while (cur.alive):\n",
    "        idx = cur.next()\n",
    "        dic = {}\n",
    "        \n",
    "        category_id =idx['category_id'] \n",
    "    #     print(category_id)\n",
    "\n",
    "        cat = db.cat_encode.find_one({ \"cat\" : (category_id)}, {\"cat\" : 1.0, \"_id\" : 0})['cat']\n",
    "    #     print(cat)\n",
    "        \n",
    "        picture = (imread(io.BytesIO(idx['imgs'][0]['picture'])))\n",
    "        picture  = np.float32(scipy.misc.imresize(picture, (150,150), interp='bilinear', mode=None)/255.0)        \n",
    "        dic['picture'] = picture\n",
    "        \n",
    "        encode = db.cat_encode.find_one({ \"cat\" : (category_id)}, {\"encode\" : 1.0, \"_id\" : 0})['encode']\n",
    "    #     print(encode)\n",
    "        dic['encode'] = encode\n",
    "        \n",
    "        lst_batch.append(dic)\n",
    "        \n",
    "        i+=1\n",
    "    X_batch = np.array([lst['picture'] for lst in lst_batch])\n",
    "    Y_batch = np.array([lst['encode'] for lst in lst_batch])\n",
    "    print('X batch size: ', X_batch.shape)\n",
    "    print('Y batch size: ', Y_batch.shape)\n",
    "    \n",
    "    del(lst_batch)\n",
    "        \n",
    "    model.fit(X_batch, Y_batch, batch_size=batch_size, epochs=epochs, validation_split=0.3)\n",
    "    \n",
    "#     print(X_batch.shape[0])\n",
    "    row_count = row_count + X_batch.shape[0]\n",
    "    counter = counter + X_batch.shape[0]\n",
    "    \n",
    "    if(row_count >= 100000):\n",
    "        print('row count: ',row_count)\n",
    "        counter = counter + row_count\n",
    "        model_name = 'model_' + str(counter) +'.h5'\n",
    "        print(model_name)\n",
    "#         model.model.save('E://kaggle//Cdiscount//model//'+model_name)\n",
    "        print('Model saved')\n",
    "        row_count = 0\n",
    "    \n",
    "    print(\"--- %s seconds ---\" % (time.time() - batch_time))\n",
    "    print('rows completed: ', counter)\n",
    "    \n",
    "print(\"--- %s seconds ---\" % (time.time() - start_time))\n",
    "# model.model.save('E://kaggle//Cdiscount//model//final_model.h5')"
   ]
  },
  {
   "cell_type": "code",
   "execution_count": null,
   "metadata": {
    "collapsed": true
   },
   "outputs": [],
   "source": []
  },
  {
   "cell_type": "code",
   "execution_count": null,
   "metadata": {
    "collapsed": true
   },
   "outputs": [],
   "source": []
  },
  {
   "cell_type": "code",
   "execution_count": null,
   "metadata": {
    "collapsed": true
   },
   "outputs": [],
   "source": []
  },
  {
   "cell_type": "code",
   "execution_count": null,
   "metadata": {
    "collapsed": true
   },
   "outputs": [],
   "source": [
    "def simple_model(epochs=epochs, num_classes=num_classes, lrate=0.01, momentum=0.9):\n",
    "    \n",
    "    # Convolutional Layer\n",
    "    model = Sequential()\n",
    "    # Convolutional Layer\n",
    "    model.add(Conv2D(40, (3,3), input_shape = (180,180,3), activation='relu'))\n",
    "\n",
    "    # Pooling Layer\n",
    "    model.add(MaxPooling2D(pool_size=(2, 1)))\n",
    "    \n",
    "    # Fully conected Layer\n",
    "    model.add(Flatten())\n",
    "    model.add(Dense(num_classes, activation='softmax'))\n",
    "\n",
    "\n",
    "    lrate = 0.01\n",
    "    decay = lrate/epochs\n",
    "    sgd = SGD(lr=lrate, momentum=0.9, decay=decay, nesterov=False)\n",
    "\n",
    "#     model.compile(loss='categorical_crossentropy', optimizer=sgd, metrics=['accuracy'])\n",
    "    model.compile(loss='categorical_crossentropy', optimizer='adam', metrics=['accuracy'])\n",
    "    return model"
   ]
  },
  {
   "cell_type": "code",
   "execution_count": null,
   "metadata": {
    "collapsed": true
   },
   "outputs": [],
   "source": [
    "def deeper_model(epochs=epochs, num_classes=num_classes, lrate=0.01, momentum=0.9):\n",
    "    # Convolutional Layer\n",
    "    model = Sequential()\n",
    "    # Convolutional Layer\n",
    "    model.add(Conv2D(10, (3,3), input_shape = (180,180,3), activation='relu',\n",
    "                     kernel_regularizer= regularizers.l2(0.5)))\n",
    "#     model.add(Dropout(0.2))\n",
    "    model.add(Conv2D(13, 3, activation='relu', padding='same'))\n",
    "#     model.add(Dropout(0.2))\n",
    "    model.add(Conv2D(14, 3, activation='relu', padding='same'))\n",
    "    model.add(Dropout(0.2))\n",
    "    \n",
    "    # Pooling Layer\n",
    "    model.add(MaxPooling2D(pool_size=(2, 1)))\n",
    "    \n",
    "    \n",
    "    model.add(Conv2D(20, 3, activation='relu', padding='same'))\n",
    "#     model.add(Dropout(0.2))\n",
    "    model.add(Conv2D(26, 3, activation='relu', padding='same'))\n",
    "#     model.add(Dropout(0.2))\n",
    "    model.add(Conv2D(20, 3, activation='relu', padding='same'))\n",
    "    model.add(Dropout(0.2))\n",
    "    model.add(Conv2D(15, 3, activation='relu', padding='same'))\n",
    "#     model.add(Dropout(0.2))\n",
    "    model.add(Conv2D(10, 3, activation='relu', padding='same'))\n",
    "#     model.add(Dropout(0.2))\n",
    "    model.add(Conv2D(10, 3, activation='relu', padding='same'))\n",
    "    \n",
    "    model.add(MaxPooling2D(pool_size=(2, 1)))\n",
    "    \n",
    "    model.add(Conv2D(30, 3, activation='relu', padding='same'))\n",
    "    model.add(Dropout(0.2))\n",
    "    model.add(Conv2D(25, 3, activation='relu', padding='same'))\n",
    "    \n",
    "    model.add(MaxPooling2D(pool_size=(2, 1)))\n",
    "    \n",
    "    model.add(Conv2D(30, 3, activation='relu', padding='same'))\n",
    "    model.add(Dropout(0.2))\n",
    "    model.add(Conv2D(30, 3, activation='relu', padding='same'))\n",
    "    model.add(Conv2D(10, 3, activation='relu', padding='same'))\n",
    "    model.add(Dropout(0.2))\n",
    "    \n",
    "    model.add(MaxPooling2D(pool_size=(2, 1)))\n",
    "    \n",
    "    \n",
    "    # Fully conected Layer\n",
    "    model.add(Flatten())\n",
    "    model.add(Dense(num_classes, activation='softmax'))\n",
    "\n",
    "\n",
    "    lrate = lrate\n",
    "    decay = lrate/epochs\n",
    "    sgd = SGD(lr=lrate, momentum=momentum, decay=decay, nesterov=False)\n",
    "\n",
    "#     model.compile(loss='categorical_crossentropy', optimizer=sgd, metrics=['accuracy'])\n",
    "    model.compile(loss='categorical_crossentropy', optimizer='adam', metrics=['accuracy'])\n",
    "    return model\n",
    "    "
   ]
  },
  {
   "cell_type": "code",
   "execution_count": null,
   "metadata": {
    "collapsed": true
   },
   "outputs": [],
   "source": [
    "def deeper_model2(epochs=epochs, num_classes=num_classes, lrate=0.01, momentum=0.9, l2=1):\n",
    "    # Convolutional Layer\n",
    "    model = Sequential()\n",
    "    # Convolutional Layer\n",
    "    model.add(Conv2D(10, (3,3), input_shape = (180,180,3), activation='relu'))\n",
    "    #     model.add(Dropout(0.2))\n",
    "    model.add(Conv2D(54, 3, activation='relu', padding='same'))\n",
    "#     model.add(Dropout(0.2))\n",
    "\n",
    "    model.add(MaxPooling2D(pool_size=(4, 1)))\n",
    "    model.add(Conv2D(128, 3, activation='relu', padding='same'))\n",
    "#     model.add(Dropout(0.2))\n",
    "\n",
    "    model.add(MaxPooling2D(pool_size=(4, 1)))\n",
    "    model.add(Conv2D(256, 3, activation='relu', padding='same'))\n",
    "#     model.add(Dropout(0.2))  \n",
    "\n",
    "    model.add(MaxPooling2D(pool_size=(3, 1)))\n",
    "    # Fully conected Layer\n",
    "    model.add(Flatten())\n",
    "    model.add(Dense(num_classes, activation='softmax'))\n",
    "\n",
    "\n",
    "    lrate = lrate\n",
    "    decay = lrate/epochs\n",
    "    sgd = SGD(lr=lrate, momentum=momentum, decay=decay, nesterov=False)\n",
    "\n",
    "    #     model.compile(loss='categorical_crossentropy', optimizer=sgd, metrics=['accuracy'])\n",
    "    model.compile(loss='categorical_crossentropy', optimizer='adam', metrics=['accuracy'])\n",
    "    return model\n"
   ]
  },
  {
   "cell_type": "code",
   "execution_count": null,
   "metadata": {
    "collapsed": true
   },
   "outputs": [],
   "source": [
    "def deeper_model3(epochs=epochs, num_classes=num_classes, lrate=0.01, momentum=0.9, l2=0.78):\n",
    "    # Convolutional Layer\n",
    "    model = Sequential()\n",
    "    # Convolutional Layer\n",
    "    model.add(Conv2D(10, (3,3), input_shape = (180,180,3), activation='relu', \n",
    "                    kernel_regularizer= regularizers.l2(l2)))\n",
    "    model.add(Dropout(0.1))\n",
    "    model.add(Conv2D(54, 3, activation='relu', padding='same'))\n",
    "    model.add(Dropout(0.2))\n",
    "\n",
    "    model.add(MaxPooling2D(pool_size=(4, 1)))\n",
    "    model.add(Conv2D(128, 3, activation='relu', padding='same'))\n",
    "    model.add(Dropout(0.3))\n",
    "\n",
    "    model.add(MaxPooling2D(pool_size=(4, 1)))\n",
    "    model.add(Conv2D(256, 3, activation='relu', padding='same'))\n",
    "    model.add(Dropout(0.4))  \n",
    "\n",
    "    model.add(MaxPooling2D(pool_size=(3, 1)))\n",
    "    # Fully conected Layer\n",
    "    model.add(Flatten())\n",
    "    model.add(Dense(num_classes, activation='softmax'))\n",
    "\n",
    "\n",
    "    lrate = lrate\n",
    "    decay = lrate/epochs\n",
    "    sgd = SGD(lr=lrate, momentum=momentum, decay=decay, nesterov=False)\n",
    "\n",
    "    #     model.compile(loss='categorical_crossentropy', optimizer=sgd, metrics=['accuracy'])\n",
    "    model.compile(loss='categorical_crossentropy', optimizer='adam', metrics=['accuracy'])\n",
    "    return model\n"
   ]
  },
  {
   "cell_type": "code",
   "execution_count": null,
   "metadata": {
    "collapsed": true,
    "scrolled": true
   },
   "outputs": [],
   "source": [
    "# model =simple_model(epochs=epochs, num_classes=num_classes)\n",
    "model =deeper_model3(epochs=epochs, num_classes=num_classes)\n",
    "model.summary()"
   ]
  },
  {
   "cell_type": "code",
   "execution_count": null,
   "metadata": {
    "collapsed": true
   },
   "outputs": [],
   "source": [
    "import time"
   ]
  },
  {
   "cell_type": "code",
   "execution_count": null,
   "metadata": {
    "collapsed": true,
    "scrolled": false
   },
   "outputs": [],
   "source": [
    "start_time = time.time()\n",
    "print('start code')\n",
    "counter = 0\n",
    "row_count = 0\n",
    "for j in range(0,num_batch-1):\n",
    "# for j in range(0,1):\n",
    "    batch_time = time.time()\n",
    "    a1 = int(list(np.linspace(first,last,num_batch))[j])\n",
    "    an = int(list(np.linspace(first,last,num_batch))[j+1])\n",
    "    \n",
    "    lst_batch = []\n",
    "    \n",
    "    print(a1,an)\n",
    "    \n",
    "    cur = db.train.find({})[a1:an]\n",
    "    \n",
    "    m= an-a1\n",
    "        \n",
    "    i = 0\n",
    "#     pic_array\n",
    "    while (cur.alive):\n",
    "        idx = cur.next()\n",
    "        dic = {}\n",
    "        \n",
    "        category_id =idx['category_id'] \n",
    "    #     print(category_id)\n",
    "\n",
    "        cat = db.cat_encode.find_one({ \"cat\" : (category_id)}, {\"cat\" : 1.0, \"_id\" : 0})['cat']\n",
    "    #     print(cat)\n",
    "        \n",
    "        picture = np.float32(imread(io.BytesIO(idx['imgs'][0]['picture']))/255.0)\n",
    "        picture = picture.reshape(180,180,3)\n",
    "        \n",
    "        dic['picture'] = picture\n",
    "        \n",
    "        encode = db.cat_encode.find_one({ \"cat\" : (category_id)}, {\"encode\" : 1.0, \"_id\" : 0})['encode']\n",
    "    #     print(encode)\n",
    "        dic['encode'] = encode\n",
    "        \n",
    "        lst_batch.append(dic)\n",
    "        \n",
    "        i+=1\n",
    "    X_batch = np.array([lst['picture'] for lst in lst_batch])\n",
    "    Y_batch = np.array([lst['encode'] for lst in lst_batch])\n",
    "    print('X batch size: ', X_batch.shape)\n",
    "    print('Y batch size: ', Y_batch.shape)\n",
    "    \n",
    "    del(lst_batch)\n",
    "        \n",
    "    model.fit(X_batch, Y_batch, batch_size=batch_size, epochs=epochs, validation_split=0.3)\n",
    "    \n",
    "#     print(X_batch.shape[0])\n",
    "    row_count = row_count + X_batch.shape[0]\n",
    "    counter = counter + X_batch.shape[0]\n",
    "    \n",
    "    if(row_count >= 100000):\n",
    "        print('row count: ',row_count)\n",
    "        counter = counter + row_count\n",
    "        model_name = 'model_' + str(counter) +'.h5'\n",
    "        print(model_name)\n",
    "#         model.model.save('E://kaggle//Cdiscount//model//'+model_name)\n",
    "        print('Model saved')\n",
    "        row_count = 0\n",
    "    \n",
    "    print(\"--- %s seconds ---\" % (time.time() - batch_time))\n",
    "    print('rows completed: ', counter)\n",
    "    \n",
    "print(\"--- %s seconds ---\" % (time.time() - start_time))\n",
    "# model.model.save('E://kaggle//Cdiscount//model//final_model.h5')"
   ]
  },
  {
   "cell_type": "markdown",
   "metadata": {
    "collapsed": true
   },
   "source": [
    "# Get Prediction on learned model"
   ]
  },
  {
   "cell_type": "code",
   "execution_count": null,
   "metadata": {
    "collapsed": true
   },
   "outputs": [],
   "source": [
    "lst_prediction = []\n",
    "cur = db.train.find({}).limit(last)\n",
    "\n",
    "while (cur.alive):\n",
    "    idx = cur.next()\n",
    "    dic = {}\n",
    "    \n",
    "    ### this variable is stored for model performance and will not used in test set###\n",
    "    dic['Actual'] = idx['category_id']\n",
    "    \n",
    "    picture = np.float32(imread(io.BytesIO(idx['imgs'][0]['picture']))/255.0)\n",
    "#     plt.imshow(picture)\n",
    "#     plt.show()\n",
    "    picture = picture.reshape(1,180,180,3)\n",
    "#     yFit = model.predict_on_batch(picture)\n",
    "    \n",
    "    yFit = model.predict_on_batch(picture)\n",
    "\n",
    "#     print('Actual: ', idx['category_id'])\n",
    "#     print()\n",
    "    # print(yFit.shape)\n",
    "    # print('yFit: ', yFit[0][0])\n",
    "#     print('max Argumet: ', yFit.argmax())\n",
    "\n",
    "    arg_max_idx = float(yFit.argmax())\n",
    "\n",
    "    tmp = db.argmax_encode.find_one({'arg_max':arg_max_idx})\n",
    "#     print('arg_max_db: ', tmp['arg_max'])\n",
    "#     print('Predicted_category_id: ', tmp['cat'])\n",
    "\n",
    "    \n",
    "    dic['_id'] =idx['_id']\n",
    "    dic['category_id'] = tmp['cat']\n",
    "#     print()\n",
    "    \n",
    "#     print(dic)\n",
    "    lst_prediction.append(dic)\n",
    "\n",
    "# lst_prediction"
   ]
  },
  {
   "cell_type": "code",
   "execution_count": null,
   "metadata": {
    "collapsed": true
   },
   "outputs": [],
   "source": [
    "import pandas as pd"
   ]
  },
  {
   "cell_type": "code",
   "execution_count": null,
   "metadata": {
    "collapsed": true
   },
   "outputs": [],
   "source": [
    "df = pd.DataFrame(lst_prediction, columns=['_id','category_id', 'Actual'])\n",
    "df.head()"
   ]
  },
  {
   "cell_type": "code",
   "execution_count": null,
   "metadata": {
    "collapsed": true
   },
   "outputs": [],
   "source": [
    "df['compare']= df['category_id'] == df['Actual']\n",
    "print(df[df['compare']==True].head())\n",
    "print('Accuracy: ', len(df[df['compare']==True]['_id'])/last)"
   ]
  },
  {
   "cell_type": "code",
   "execution_count": null,
   "metadata": {
    "collapsed": true
   },
   "outputs": [],
   "source": []
  },
  {
   "cell_type": "code",
   "execution_count": null,
   "metadata": {
    "collapsed": true
   },
   "outputs": [],
   "source": []
  }
 ],
 "metadata": {
  "anaconda-cloud": {},
  "kernelspec": {
   "display_name": "Python [conda root]",
   "language": "python",
   "name": "conda-root-py"
  },
  "language_info": {
   "codemirror_mode": {
    "name": "ipython",
    "version": 3
   },
   "file_extension": ".py",
   "mimetype": "text/x-python",
   "name": "python",
   "nbconvert_exporter": "python",
   "pygments_lexer": "ipython3",
   "version": "3.5.2"
  }
 },
 "nbformat": 4,
 "nbformat_minor": 2
}
