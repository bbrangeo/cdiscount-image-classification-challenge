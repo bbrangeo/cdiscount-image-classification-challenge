{
 "cells": [
  {
   "cell_type": "code",
   "execution_count": 1,
   "metadata": {
    "collapsed": true
   },
   "outputs": [],
   "source": [
    "import pymongo\n",
    "from pymongo import MongoClient\n",
    "client = MongoClient()\n",
    "client = MongoClient('localhost', 27017)\n",
    "# client = MongoClient('mongodb://localhost:27017/')\n",
    "db = client.db_cdiscount"
   ]
  },
  {
   "cell_type": "code",
   "execution_count": 2,
   "metadata": {
    "collapsed": true
   },
   "outputs": [],
   "source": [
    "import io\n",
    "import bson                       # this is installed with the pymongo package\n",
    "import matplotlib.pyplot as plt\n",
    "from skimage.data import imread   # or, whatever image library you prefer\n",
    "import multiprocessing as mp      # will come in handy due to the size of the data"
   ]
  },
  {
   "cell_type": "code",
   "execution_count": 3,
   "metadata": {
    "collapsed": true
   },
   "outputs": [],
   "source": [
    "import numpy as np\n",
    "import scipy\n",
    "import time"
   ]
  },
  {
   "cell_type": "code",
   "execution_count": 4,
   "metadata": {},
   "outputs": [
    {
     "name": "stderr",
     "output_type": "stream",
     "text": [
      "Using TensorFlow backend.\n"
     ]
    }
   ],
   "source": [
    "from keras.applications.inception_v3 import InceptionV3\n",
    "from keras.preprocessing import image\n",
    "from keras.models import Model\n",
    "from keras.layers import Dense, GlobalAveragePooling2D\n",
    "from keras import backend as K"
   ]
  },
  {
   "cell_type": "code",
   "execution_count": 5,
   "metadata": {
    "collapsed": true
   },
   "outputs": [],
   "source": [
    "# create the base pre-trained model\n",
    "base_model = InceptionV3(weights='imagenet', include_top=False)"
   ]
  },
  {
   "cell_type": "code",
   "execution_count": 6,
   "metadata": {
    "collapsed": true
   },
   "outputs": [],
   "source": [
    "first = 0\n",
    "last = 10\n",
    "batch = 4\n",
    "num_batch = int(last/batch)\n",
    "# last = 82"
   ]
  },
  {
   "cell_type": "code",
   "execution_count": 7,
   "metadata": {
    "collapsed": true
   },
   "outputs": [],
   "source": [
    "epochs = 10\n",
    "batch_size = 4\n",
    "num_classes = db.cat_encode.count()"
   ]
  },
  {
   "cell_type": "code",
   "execution_count": 8,
   "metadata": {},
   "outputs": [],
   "source": [
    "x = base_model.output\n",
    "x = GlobalAveragePooling2D()(x)\n",
    "# let's add a fully-connected layer\n",
    "x = Dense(1024, activation='relu')(x)\n",
    "# and a logistic layer -- let's say we have 9 class\n",
    "predictions = Dense(num_classes, activation='softmax')(x)"
   ]
  },
  {
   "cell_type": "code",
   "execution_count": 9,
   "metadata": {
    "collapsed": true
   },
   "outputs": [],
   "source": [
    "# this is the model we will train\n",
    "model = Model(inputs=base_model.input, outputs=predictions)"
   ]
  },
  {
   "cell_type": "code",
   "execution_count": 10,
   "metadata": {
    "collapsed": true
   },
   "outputs": [],
   "source": [
    "# first: train only the top layers (which were randomly initialized)\n",
    "# i.e. freeze all convolutional InceptionV3 layers\n",
    "for layer in base_model.layers:\n",
    "    layer.trainable = False"
   ]
  },
  {
   "cell_type": "code",
   "execution_count": null,
   "metadata": {
    "collapsed": true
   },
   "outputs": [],
   "source": [
    "# compile the model (should be done *after* setting layers to non-trainable)\n",
    "model.compile(optimizer='rmsprop', loss='categorical_crossentropy')"
   ]
  },
  {
   "cell_type": "code",
   "execution_count": null,
   "metadata": {},
   "outputs": [
    {
     "name": "stdout",
     "output_type": "stream",
     "text": [
      "start code\n",
      "0 10\n",
      "X batch size:  (10, 150, 150, 3)\n",
      "Y batch size:  (10, 5270)\n",
      "Train on 7 samples, validate on 3 samples\n",
      "Epoch 1/10\n"
     ]
    }
   ],
   "source": [
    "start_time = time.time()\n",
    "print('start code')\n",
    "counter = 0\n",
    "row_count = 0\n",
    "for j in range(0,num_batch-1):\n",
    "# for j in range(0,1):\n",
    "    batch_time = time.time()\n",
    "    a1 = int(list(np.linspace(first,last,num_batch))[j])\n",
    "    an = int(list(np.linspace(first,last,num_batch))[j+1])\n",
    "    \n",
    "    lst_batch = []\n",
    "    \n",
    "    print(a1,an)\n",
    "    \n",
    "    cur = db.train.find({})[a1:an]\n",
    "    \n",
    "    m= an-a1\n",
    "        \n",
    "    i = 0\n",
    "#     pic_array\n",
    "    while (cur.alive):\n",
    "        idx = cur.next()\n",
    "        dic = {}\n",
    "        \n",
    "        category_id =idx['category_id'] \n",
    "    #     print(category_id)\n",
    "\n",
    "        cat = db.cat_encode.find_one({ \"cat\" : (category_id)}, {\"cat\" : 1.0, \"_id\" : 0})['cat']\n",
    "    #     print(cat)\n",
    "        \n",
    "        picture = (imread(io.BytesIO(idx['imgs'][0]['picture'])))\n",
    "        picture  = np.float32(scipy.misc.imresize(picture, (150,150), interp='bilinear', mode=None)/255.0)        \n",
    "        dic['picture'] = picture\n",
    "        \n",
    "        encode = db.cat_encode.find_one({ \"cat\" : (category_id)}, {\"encode\" : 1.0, \"_id\" : 0})['encode']\n",
    "    #     print(encode)\n",
    "        dic['encode'] = encode\n",
    "        \n",
    "        lst_batch.append(dic)\n",
    "        \n",
    "        i+=1\n",
    "    X_batch = np.array([lst['picture'] for lst in lst_batch])\n",
    "    Y_batch = np.array([lst['encode'] for lst in lst_batch])\n",
    "    print('X batch size: ', X_batch.shape)\n",
    "    print('Y batch size: ', Y_batch.shape)\n",
    "    \n",
    "    del(lst_batch)\n",
    "        \n",
    "    model.fit(X_batch, Y_batch, batch_size=batch_size, epochs=epochs, validation_split=0.3)\n",
    "    \n",
    "#     print(X_batch.shape[0])\n",
    "    row_count = row_count + X_batch.shape[0]\n",
    "    counter = counter + X_batch.shape[0]\n",
    "    \n",
    "    if(row_count >= 100000):\n",
    "        print('row count: ',row_count)\n",
    "        counter = counter + row_count\n",
    "        model_name = 'model_' + str(counter) +'.h5'\n",
    "        print(model_name)\n",
    "#         model.model.save('E://kaggle//Cdiscount//model//'+model_name)\n",
    "        print('Model saved')\n",
    "        row_count = 0\n",
    "    \n",
    "    print(\"--- %s seconds ---\" % (time.time() - batch_time))\n",
    "    print('rows completed: ', counter)\n",
    "    \n",
    "print(\"--- %s seconds ---\" % (time.time() - start_time))\n",
    "# model.model.save('E://kaggle//Cdiscount//model//final_model.h5')"
   ]
  },
  {
   "cell_type": "code",
   "execution_count": null,
   "metadata": {
    "collapsed": true
   },
   "outputs": [],
   "source": []
  }
 ],
 "metadata": {
  "anaconda-cloud": {},
  "kernelspec": {
   "display_name": "Python [conda root]",
   "language": "python",
   "name": "conda-root-py"
  },
  "language_info": {
   "codemirror_mode": {
    "name": "ipython",
    "version": 3
   },
   "file_extension": ".py",
   "mimetype": "text/x-python",
   "name": "python",
   "nbconvert_exporter": "python",
   "pygments_lexer": "ipython3",
   "version": "3.5.2"
  }
 },
 "nbformat": 4,
 "nbformat_minor": 2
}
