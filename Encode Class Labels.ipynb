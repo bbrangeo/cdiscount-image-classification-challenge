{
 "cells": [
  {
   "cell_type": "code",
   "execution_count": 1,
   "metadata": {},
   "outputs": [
    {
     "data": {
      "text/plain": [
       "5270"
      ]
     },
     "execution_count": 1,
     "metadata": {},
     "output_type": "execute_result"
    }
   ],
   "source": [
    "import pandas as pd\n",
    "\n",
    "file_dir = 'E://kaggle//Cdiscount//dataset'\n",
    "\n",
    "df_submission = pd.read_csv(file_dir+'//category_names.csv')\n",
    "\n",
    "lst_cat = df_submission['category_id'].tolist()\n",
    "\n",
    "\n",
    "len(lst_cat)"
   ]
  },
  {
   "cell_type": "code",
   "execution_count": 2,
   "metadata": {},
   "outputs": [
    {
     "data": {
      "text/plain": [
       "1000021794"
      ]
     },
     "execution_count": 2,
     "metadata": {},
     "output_type": "execute_result"
    }
   ],
   "source": [
    "lst_cat[0]"
   ]
  },
  {
   "cell_type": "code",
   "execution_count": 3,
   "metadata": {
    "collapsed": true
   },
   "outputs": [],
   "source": [
    "# from keras.utils import np_utils\n",
    "# from sklearn.preprocessing import LabelEncoder\n",
    "\n",
    "# y = lst_cat\n",
    "\n",
    "# encoder = LabelEncoder()\n",
    "# encoder.fit(y)\n",
    "# encoded_y = encoder.transform(y)\n",
    "# dummy_y = np_utils.to_categorical(encoded_y)\n",
    "# dummy_y.shape"
   ]
  },
  {
   "cell_type": "code",
   "execution_count": null,
   "metadata": {
    "collapsed": true
   },
   "outputs": [],
   "source": []
  },
  {
   "cell_type": "code",
   "execution_count": 4,
   "metadata": {
    "collapsed": true
   },
   "outputs": [],
   "source": [
    "# print(lst_cat)\n",
    "# print(dummy_y)"
   ]
  },
  {
   "cell_type": "code",
   "execution_count": 3,
   "metadata": {
    "collapsed": true
   },
   "outputs": [],
   "source": [
    "from sklearn.preprocessing import LabelBinarizer\n",
    "encoder = LabelBinarizer()\n",
    "\n",
    "transfomed_label = encoder.fit_transform(lst_cat)\n",
    "\n",
    "# print(lst_cat)\n",
    "# print(transfomed_label)"
   ]
  },
  {
   "cell_type": "code",
   "execution_count": 4,
   "metadata": {
    "collapsed": true
   },
   "outputs": [],
   "source": [
    "df_cat = pd.DataFrame()\n",
    "df_cat['cat'] = lst_cat\n",
    "df_cat['encode'] = transfomed_label.tolist()"
   ]
  },
  {
   "cell_type": "code",
   "execution_count": 5,
   "metadata": {
    "collapsed": true
   },
   "outputs": [],
   "source": [
    "dic_encode = df_cat.to_dict('Rec')\n"
   ]
  },
  {
   "cell_type": "markdown",
   "metadata": {},
   "source": [
    "## Write to MongoDB"
   ]
  },
  {
   "cell_type": "code",
   "execution_count": 8,
   "metadata": {
    "collapsed": true
   },
   "outputs": [],
   "source": [
    "import pymongo\n",
    "from pymongo import MongoClient\n",
    "client = MongoClient()\n",
    "client = MongoClient('localhost', 27017)\n",
    "client = MongoClient('mongodb://localhost:27017/')\n",
    "db = client.db_cdiscount"
   ]
  },
  {
   "cell_type": "code",
   "execution_count": 9,
   "metadata": {},
   "outputs": [
    {
     "data": {
      "text/plain": [
       "<pymongo.results.InsertManyResult at 0x12065160c08>"
      ]
     },
     "execution_count": 9,
     "metadata": {},
     "output_type": "execute_result"
    }
   ],
   "source": [
    "# db.cat_encode.insert_many(dic_encode)"
   ]
  },
  {
   "cell_type": "code",
   "execution_count": 11,
   "metadata": {},
   "outputs": [
    {
     "ename": "SyntaxError",
     "evalue": "invalid syntax (<ipython-input-11-6bee9a514bba>, line 2)",
     "output_type": "error",
     "traceback": [
      "\u001b[1;36m  File \u001b[1;32m\"<ipython-input-11-6bee9a514bba>\"\u001b[1;36m, line \u001b[1;32m2\u001b[0m\n\u001b[1;33m    {$lookup:\u001b[0m\n\u001b[1;37m     ^\u001b[0m\n\u001b[1;31mSyntaxError\u001b[0m\u001b[1;31m:\u001b[0m invalid syntax\n"
     ]
    }
   ],
   "source": [
    "# tmp = db_name.Copy_of_train_example.aggregate([\n",
    "#     {\n",
    "#       $lookup:\n",
    "#         {\n",
    "#           from: \"cat_encode\",\n",
    "#           localField: \"category_id\",\n",
    "#           foreignField: \"cat\",\n",
    "#           as: \"inventory_docs\"\n",
    "#         }\n",
    "#    }\n",
    "# ])"
   ]
  },
  {
   "cell_type": "code",
   "execution_count": null,
   "metadata": {
    "collapsed": true
   },
   "outputs": [],
   "source": [
    "# var myCursor = db.Copy_of_train_example.aggregate([\n",
    "#     {\n",
    "#       $lookup:\n",
    "#         {\n",
    "#           from: \"cat_encode\",\n",
    "#           localField: \"category_id\",\n",
    "#           foreignField: \"cat\",\n",
    "#           as: \"train_encode\"\n",
    "#         }\n",
    "#    },\n",
    "#    {\n",
    "#       $unwind:\"$train_encode\"\n",
    "#    },\n",
    "#    {\n",
    "#       $project:{\n",
    "#          \"_id\":1,\n",
    "#          \"imgs\":1,\n",
    "#          \"category_id\":1,\n",
    "#          \"encode\":\"$train_encode.encode\"\n",
    "#       }\n",
    "#    },\n",
    "#    { $out : \"abc_col\" }\n",
    "#  ]);\n",
    " \n"
   ]
  }
 ],
 "metadata": {
  "anaconda-cloud": {},
  "kernelspec": {
   "display_name": "Python [default]",
   "language": "python",
   "name": "python3"
  },
  "language_info": {
   "codemirror_mode": {
    "name": "ipython",
    "version": 3
   },
   "file_extension": ".py",
   "mimetype": "text/x-python",
   "name": "python",
   "nbconvert_exporter": "python",
   "pygments_lexer": "ipython3",
   "version": "3.5.2"
  }
 },
 "nbformat": 4,
 "nbformat_minor": 2
}
