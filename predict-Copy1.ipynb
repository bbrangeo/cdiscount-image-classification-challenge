{
 "cells": [
  {
   "cell_type": "code",
   "execution_count": null,
   "metadata": {
    "collapsed": true
   },
   "outputs": [],
   "source": [
    "import pymongo\n",
    "from pymongo import MongoClient\n",
    "client = MongoClient()\n",
    "client = MongoClient('localhost', 27017)\n",
    "# client = MongoClient('mongodb://localhost:27017/')\n",
    "db = client.db_cdiscount"
   ]
  },
  {
   "cell_type": "code",
   "execution_count": null,
   "metadata": {
    "collapsed": true
   },
   "outputs": [],
   "source": [
    "import io\n",
    "import bson                       # this is installed with the pymongo package\n",
    "import matplotlib.pyplot as plt\n",
    "from skimage.data import imread   # or, whatever image library you prefer\n",
    "import multiprocessing as mp "
   ]
  },
  {
   "cell_type": "code",
   "execution_count": null,
   "metadata": {
    "collapsed": true
   },
   "outputs": [],
   "source": [
    "import numpy as np"
   ]
  },
  {
   "cell_type": "code",
   "execution_count": null,
   "metadata": {
    "collapsed": true
   },
   "outputs": [],
   "source": [
    "import matplotlib.pyplot as plt"
   ]
  },
  {
   "cell_type": "code",
   "execution_count": null,
   "metadata": {},
   "outputs": [],
   "source": [
    "from keras.models import load_model"
   ]
  },
  {
   "cell_type": "code",
   "execution_count": null,
   "metadata": {
    "collapsed": true
   },
   "outputs": [],
   "source": [
    "import pandas as pd"
   ]
  },
  {
   "cell_type": "code",
   "execution_count": null,
   "metadata": {
    "collapsed": true
   },
   "outputs": [],
   "source": [
    "model = load_model('E://kaggle//Cdiscount//model//model_1801502.h5')"
   ]
  },
  {
   "cell_type": "code",
   "execution_count": null,
   "metadata": {},
   "outputs": [],
   "source": [
    "lst_prediction = []\n",
    "cur = db.test.find({})\n",
    "\n",
    "while (cur.alive):\n",
    "    idx = cur.next()\n",
    "    dic = {}\n",
    "    \n",
    "    picture = np.float32(imread(io.BytesIO(idx['imgs'][0]['picture']))/255.0)\n",
    "#     plt.imshow(picture)\n",
    "#     plt.show()\n",
    "    picture = picture.reshape(1,180,180,3)\n",
    "#     yFit = model.predict_on_batch(picture)\n",
    "    \n",
    "    yFit = model.predict_on_batch(picture)\n",
    "\n",
    "#     print('Actual: ', idx['category_id'])\n",
    "#     print()\n",
    "    # print(yFit.shape)\n",
    "    # print('yFit: ', yFit[0][0])\n",
    "#     print('max Argumet: ', yFit.argmax())\n",
    "\n",
    "    arg_max_idx = float(yFit.argmax())\n",
    "\n",
    "    tmp = db.argmax_encode.find_one({'arg_max':arg_max_idx})\n",
    "#     print('arg_max_db: ', tmp['arg_max'])\n",
    "#     print('Predicted_category_id: ', tmp['cat'])\n",
    "\n",
    "    \n",
    "    dic['_id'] =idx['_id']\n",
    "    dic['category_id'] = tmp['cat']\n",
    "#     print()\n",
    "    \n",
    "#     print(dic)\n",
    "    lst_prediction.append(dic)\n",
    "\n",
    "# lst_prediction"
   ]
  },
  {
   "cell_type": "code",
   "execution_count": null,
   "metadata": {},
   "outputs": [],
   "source": [
    "lst_prediction"
   ]
  },
  {
   "cell_type": "code",
   "execution_count": null,
   "metadata": {},
   "outputs": [],
   "source": [
    "df = pd.DataFrame(lst_prediction, columns=['_id','category_id'])\n",
    "df.head()"
   ]
  },
  {
   "cell_type": "code",
   "execution_count": null,
   "metadata": {
    "collapsed": true
   },
   "outputs": [],
   "source": [
    "df.to_csv('E://kaggle//Cdiscount//dataset//first_submission.csv', index=False)"
   ]
  },
  {
   "cell_type": "code",
   "execution_count": null,
   "metadata": {
    "collapsed": true
   },
   "outputs": [],
   "source": []
  },
  {
   "cell_type": "code",
   "execution_count": null,
   "metadata": {
    "collapsed": true
   },
   "outputs": [],
   "source": []
  },
  {
   "cell_type": "code",
   "execution_count": null,
   "metadata": {
    "collapsed": true,
    "scrolled": true
   },
   "outputs": [],
   "source": [
    "# lst_prediction = []\n",
    "# cur = db.test.find({})\n",
    "\n",
    "# while (cur.alive):\n",
    "#     idx = cur.next()\n",
    "#     dic = {}\n",
    "    \n",
    "#     picture = np.float32(imread(io.BytesIO(idx['imgs'][0]['picture']))/255.0)\n",
    "# #     plt.imshow(picture)\n",
    "# #     plt.show()\n",
    "#     picture = picture.reshape(1,180,180,3)\n",
    "#     yFit = model.predict_on_batch(picture)\n",
    "\n",
    "# #     print('Actual: ', idx['category_id'])\n",
    "# #     print('yFit: ', yFit[0][0])\n",
    "# #     print()\n",
    "    \n",
    "#     dic['_id'] =idx['_id']\n",
    "#     dic['category_id'] = yFit[0][0]\n",
    "    \n",
    "# #     print(dic)\n",
    "#     lst_prediction.append(dic)\n",
    "\n",
    "# # lst_prediction"
   ]
  },
  {
   "cell_type": "code",
   "execution_count": null,
   "metadata": {
    "collapsed": true
   },
   "outputs": [],
   "source": []
  },
  {
   "cell_type": "code",
   "execution_count": null,
   "metadata": {
    "collapsed": true
   },
   "outputs": [],
   "source": []
  },
  {
   "cell_type": "markdown",
   "metadata": {},
   "source": [
    "# Read Csv prediction and get higher prob index"
   ]
  },
  {
   "cell_type": "code",
   "execution_count": null,
   "metadata": {
    "collapsed": true
   },
   "outputs": [],
   "source": [
    "df = pd.read_csv('E://kaggle//Cdiscount//dataset//my_submission.csv')"
   ]
  },
  {
   "cell_type": "code",
   "execution_count": null,
   "metadata": {
    "collapsed": true
   },
   "outputs": [],
   "source": [
    "df.head()"
   ]
  },
  {
   "cell_type": "code",
   "execution_count": null,
   "metadata": {
    "collapsed": true
   },
   "outputs": [],
   "source": [
    "df['category_id'].min()"
   ]
  },
  {
   "cell_type": "code",
   "execution_count": null,
   "metadata": {
    "collapsed": true
   },
   "outputs": [],
   "source": []
  },
  {
   "cell_type": "code",
   "execution_count": null,
   "metadata": {
    "collapsed": true
   },
   "outputs": [],
   "source": []
  },
  {
   "cell_type": "code",
   "execution_count": null,
   "metadata": {
    "collapsed": true
   },
   "outputs": [],
   "source": []
  },
  {
   "cell_type": "code",
   "execution_count": null,
   "metadata": {
    "collapsed": true
   },
   "outputs": [],
   "source": []
  },
  {
   "cell_type": "code",
   "execution_count": null,
   "metadata": {
    "collapsed": true
   },
   "outputs": [],
   "source": []
  },
  {
   "cell_type": "code",
   "execution_count": null,
   "metadata": {
    "collapsed": true
   },
   "outputs": [],
   "source": [
    "cur = db.subset_test.find_one({})"
   ]
  },
  {
   "cell_type": "code",
   "execution_count": null,
   "metadata": {},
   "outputs": [],
   "source": [
    "idx = cur\n",
    "\n",
    "_id =idx['_id']\n",
    "picture = np.float32(imread(io.BytesIO(idx['imgs'][0]['picture']))/255.0)\n",
    "plt.imshow(picture)\n",
    "plt.show()\n",
    "picture = picture.reshape(1,180,180,3)\n"
   ]
  },
  {
   "cell_type": "code",
   "execution_count": null,
   "metadata": {},
   "outputs": [],
   "source": [
    "yFit = model.predict_on_batch(picture)\n",
    "\n",
    "print('Actual: ', idx['category_id'])\n",
    "print()\n",
    "# print(yFit.shape)\n",
    "# print('yFit: ', yFit[0][0])\n",
    "print('max Argumet: ', yFit.argmax())\n",
    "\n",
    "# b = np.zeros_like(yFit)\n",
    "# b[np.arange(len(yFit)), yFit.argmax(1)] = 1\n",
    "\n",
    "arg_max_idx = float(b.argmax())\n",
    "arg_max_idx\n",
    "\n",
    "# cat_cur = db.argmax_encode.find({'arg_max':arg_max_idx})\n",
    "tmp = db.argmax_encode.find_one({'arg_max':arg_max_idx})\n",
    "print('arg_max_db: ', tmp['arg_max'])\n",
    "print('Predicted_category_id: ', tmp['cat'])\n",
    "# print(b.max())\n",
    "# b.argmax()\n"
   ]
  },
  {
   "cell_type": "code",
   "execution_count": null,
   "metadata": {},
   "outputs": [],
   "source": []
  },
  {
   "cell_type": "code",
   "execution_count": null,
   "metadata": {},
   "outputs": [],
   "source": []
  },
  {
   "cell_type": "code",
   "execution_count": null,
   "metadata": {},
   "outputs": [],
   "source": [
    "a = np.array([[0, 1, 7,3,4,5]])\n",
    "print(a.shape)\n",
    "b = np.zeros_like(a)\n",
    "b[np.arange(len(a)), a.argmax(1)] = 1\n",
    "b"
   ]
  },
  {
   "cell_type": "code",
   "execution_count": null,
   "metadata": {
    "collapsed": true
   },
   "outputs": [],
   "source": []
  },
  {
   "cell_type": "code",
   "execution_count": null,
   "metadata": {
    "collapsed": true
   },
   "outputs": [],
   "source": []
  },
  {
   "cell_type": "code",
   "execution_count": null,
   "metadata": {
    "collapsed": true
   },
   "outputs": [],
   "source": []
  },
  {
   "cell_type": "code",
   "execution_count": null,
   "metadata": {
    "collapsed": true
   },
   "outputs": [],
   "source": []
  },
  {
   "cell_type": "code",
   "execution_count": null,
   "metadata": {
    "collapsed": true
   },
   "outputs": [],
   "source": [
    "test = db.test.find_one()"
   ]
  },
  {
   "cell_type": "code",
   "execution_count": null,
   "metadata": {
    "collapsed": true
   },
   "outputs": [],
   "source": [
    "# test['imgs'][0]['picture']\n",
    "imgg = imread(io.BytesIO(test['imgs'][0]['picture']))"
   ]
  },
  {
   "cell_type": "code",
   "execution_count": null,
   "metadata": {
    "collapsed": true
   },
   "outputs": [],
   "source": [
    "plt.imshow(imgg)\n",
    "plt.show()"
   ]
  },
  {
   "cell_type": "code",
   "execution_count": null,
   "metadata": {
    "collapsed": true
   },
   "outputs": [],
   "source": [
    "def get_prediction(model, data):\n",
    "    \n",
    "    return category"
   ]
  },
  {
   "cell_type": "code",
   "execution_count": null,
   "metadata": {
    "collapsed": true
   },
   "outputs": [],
   "source": [
    "lst_prediction = []"
   ]
  },
  {
   "cell_type": "code",
   "execution_count": null,
   "metadata": {
    "collapsed": true
   },
   "outputs": [],
   "source": [
    "dic = {}\n",
    "dic['_id'] = test['_id']"
   ]
  },
  {
   "cell_type": "code",
   "execution_count": null,
   "metadata": {
    "collapsed": true
   },
   "outputs": [],
   "source": [
    "test"
   ]
  }
 ],
 "metadata": {
  "anaconda-cloud": {},
  "kernelspec": {
   "display_name": "Python [default]",
   "language": "python",
   "name": "python3"
  },
  "language_info": {
   "codemirror_mode": {
    "name": "ipython",
    "version": 3
   },
   "file_extension": ".py",
   "mimetype": "text/x-python",
   "name": "python",
   "nbconvert_exporter": "python",
   "pygments_lexer": "ipython3",
   "version": "3.5.2"
  }
 },
 "nbformat": 4,
 "nbformat_minor": 2
}
