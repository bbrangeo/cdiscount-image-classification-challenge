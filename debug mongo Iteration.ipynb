{
 "cells": [
  {
   "cell_type": "code",
   "execution_count": 1,
   "metadata": {
    "collapsed": true
   },
   "outputs": [],
   "source": [
    "import pymongo\n",
    "from pymongo import MongoClient\n",
    "client = MongoClient()\n",
    "client = MongoClient('localhost', 27017)\n",
    "# client = MongoClient('mongodb://localhost:27017/')\n",
    "db = client.db_cdiscount"
   ]
  },
  {
   "cell_type": "code",
   "execution_count": 2,
   "metadata": {
    "collapsed": true
   },
   "outputs": [],
   "source": [
    "import io\n",
    "import bson                       # this is installed with the pymongo package\n",
    "import matplotlib.pyplot as plt\n",
    "from skimage.data import imread   # or, whatever image library you prefer\n",
    "import multiprocessing as mp      # will come in handy due to the size of the data"
   ]
  },
  {
   "cell_type": "code",
   "execution_count": 3,
   "metadata": {
    "collapsed": true
   },
   "outputs": [],
   "source": [
    "import numpy as np"
   ]
  },
  {
   "cell_type": "code",
   "execution_count": 6,
   "metadata": {
    "collapsed": true
   },
   "outputs": [],
   "source": [
    "first = 0\n",
    "last = 169896\n",
    "batch = 4000\n",
    "num_batch = int(last/batch)\n",
    "# last = 82"
   ]
  },
  {
   "cell_type": "code",
   "execution_count": 7,
   "metadata": {
    "collapsed": true
   },
   "outputs": [],
   "source": [
    "import time"
   ]
  },
  {
   "cell_type": "code",
   "execution_count": null,
   "metadata": {
    "scrolled": false
   },
   "outputs": [
    {
     "name": "stdout",
     "output_type": "stream",
     "text": [
      "--- 0.0 read time seconds ---\n",
      "Y batch size:  (4143,)\n",
      "--- 6.457245349884033 seconds ---\n",
      "+++++++++++ rows completed:  4143 +++++++++++\n",
      "--- 0.0010001659393310547 read time seconds ---\n",
      "Y batch size:  (4144,)\n",
      "--- 52.07289218902588 seconds ---\n",
      "+++++++++++ rows completed:  8287 +++++++++++\n",
      "--- 4.636698007583618 read time seconds ---\n",
      "Y batch size:  (4144,)\n",
      "--- 75.03351283073425 seconds ---\n",
      "+++++++++++ rows completed:  12431 +++++++++++\n",
      "--- 2.1658778190612793 read time seconds ---\n"
     ]
    },
    {
     "name": "stderr",
     "output_type": "stream",
     "text": [
      "ERROR:root:Internal Python error in the inspect module.\n",
      "Below is the traceback from this internal error.\n",
      "\n"
     ]
    }
   ],
   "source": [
    "start_time = time.time()\n",
    "\n",
    "counter = 0\n",
    "row_count = 0\n",
    "for j in range(0,num_batch-1):\n",
    "# for j in range(0,1):\n",
    "    batch_time = time.time()\n",
    "    a1 = int(list(np.linspace(first,last,num_batch))[j])\n",
    "    an = int(list(np.linspace(first,last,num_batch))[j+1])\n",
    "    \n",
    "    lst_batch = []\n",
    "    \n",
    "#     print(a1,an)\n",
    "    \n",
    "    cur = db.train.find({})[a1:an]\n",
    "    print(\"--- %s read time seconds ---\" % (time.time() - batch_time)) \n",
    "    m= an-a1\n",
    "        \n",
    "    i = 0\n",
    "#     pic_array\n",
    "    while (cur.alive):\n",
    "        idx = cur.next()\n",
    "        dic = {}\n",
    "        \n",
    "        category_id =idx['category_id'] \n",
    "#     #     print(category_id)\n",
    "\n",
    "#         cat = db.cat_encode.find_one({ \"cat\" : (category_id)}, {\"cat\" : 1.0, \"_id\" : 0})['cat']\n",
    "#     #     print(cat)\n",
    "        \n",
    "        picture = np.float32(imread(io.BytesIO(idx['imgs'][0]['picture']))/255.0)\n",
    "        picture = picture.reshape(180,180,3)\n",
    "        \n",
    "        dic['picture'] = picture\n",
    "        \n",
    "#         encode = db.cat_encode.find_one({ \"cat\" : (category_id)}, {\"encode\" : 1.0, \"_id\" : 0})['encode']\n",
    "    #     print(encode)\n",
    "#         dic['encode'] = encode\n",
    "        dic['encode'] =idx['category_id'] \n",
    "    \n",
    "        lst_batch.append(dic)\n",
    "        \n",
    "        i+=1\n",
    "    X_batch = np.array([lst['picture'] for lst in lst_batch])\n",
    "    Y_batch = np.array([lst['encode'] for lst in lst_batch])\n",
    "#     print('X batch size: ', X_batch.shape)\n",
    "    print('Y batch size: ', Y_batch.shape)\n",
    "    \n",
    "    del(lst_batch)\n",
    "        \n",
    "#     model.fit(X_batch, Y_batch, batch_size=batch_size, epochs=epochs, validation_split=0.2)\n",
    "    \n",
    "#     print(X_batch.shape[0])\n",
    "    row_count = row_count + Y_batch.shape[0]\n",
    "    counter = counter + Y_batch.shape[0]\n",
    "    \n",
    "    if(row_count >= 100000):\n",
    "        print('*************batch count Model save: ',row_count,'*************')\n",
    "#         row_count = counter + row_count\n",
    "        model_name = 'model_' + str(counter) +'.h5'\n",
    "        print(model_name)\n",
    "#         model.model.save('E://kaggle//Cdiscount//model//'+model_name)\n",
    "        print('Model saved')\n",
    "        row_count = 0\n",
    "    \n",
    "    print(\"--- %s seconds ---\" % (time.time() - batch_time))\n",
    "    print('+++++++++++ rows completed: ', counter, '+++++++++++')\n",
    "    \n",
    "print(\"--- %s seconds ---\" % (time.time() - start_time))\n",
    "# model.model.save('E://kaggle//Cdiscount//model//final_model.h5')"
   ]
  },
  {
   "cell_type": "code",
   "execution_count": null,
   "metadata": {
    "collapsed": true
   },
   "outputs": [],
   "source": []
  },
  {
   "cell_type": "code",
   "execution_count": null,
   "metadata": {
    "collapsed": true
   },
   "outputs": [],
   "source": []
  }
 ],
 "metadata": {
  "anaconda-cloud": {},
  "kernelspec": {
   "display_name": "Python [default]",
   "language": "python",
   "name": "python3"
  },
  "language_info": {
   "codemirror_mode": {
    "name": "ipython",
    "version": 3
   },
   "file_extension": ".py",
   "mimetype": "text/x-python",
   "name": "python",
   "nbconvert_exporter": "python",
   "pygments_lexer": "ipython3",
   "version": "3.5.2"
  }
 },
 "nbformat": 4,
 "nbformat_minor": 2
}
