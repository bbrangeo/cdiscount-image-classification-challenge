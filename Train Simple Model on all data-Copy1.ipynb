{
 "cells": [
  {
   "cell_type": "code",
   "execution_count": 1,
   "metadata": {
    "collapsed": true
   },
   "outputs": [],
   "source": [
    "import pymongo\n",
    "from pymongo import MongoClient\n",
    "client = MongoClient()\n",
    "client = MongoClient('localhost', 27017)\n",
    "# client = MongoClient('mongodb://localhost:27017/')\n",
    "db = client.db_cdiscount"
   ]
  },
  {
   "cell_type": "code",
   "execution_count": 2,
   "metadata": {
    "collapsed": true
   },
   "outputs": [],
   "source": [
    "import io\n",
    "import bson                       # this is installed with the pymongo package\n",
    "import matplotlib.pyplot as plt\n",
    "from skimage.data import imread   # or, whatever image library you prefer\n",
    "import multiprocessing as mp      # will come in handy due to the size of the data"
   ]
  },
  {
   "cell_type": "code",
   "execution_count": 3,
   "metadata": {
    "collapsed": true
   },
   "outputs": [],
   "source": [
    "import numpy as np"
   ]
  },
  {
   "cell_type": "code",
   "execution_count": 4,
   "metadata": {},
   "outputs": [
    {
     "name": "stderr",
     "output_type": "stream",
     "text": [
      "Using TensorFlow backend.\n"
     ]
    }
   ],
   "source": [
    "from keras.models import Sequential\n",
    "from keras.layers import Dense, Activation\n",
    "from keras.layers import Dropout\n",
    "from keras.layers import Flatten\n",
    "from keras.constraints import maxnorm\n",
    "from keras.optimizers import SGD\n",
    "from keras.layers.convolutional import Conv2D\n",
    "from keras.layers.convolutional import MaxPooling2D\n",
    "from keras.utils import np_utils\n",
    "from keras import backend as K\n",
    "import keras\n",
    "K.set_image_dim_ordering('th')"
   ]
  },
  {
   "cell_type": "code",
   "execution_count": 5,
   "metadata": {
    "collapsed": true
   },
   "outputs": [],
   "source": [
    "first = 0\n",
    "last = 7069896\n",
    "batch = 4000\n",
    "num_batch = int(last/batch)\n",
    "# last = 82\n"
   ]
  },
  {
   "cell_type": "code",
   "execution_count": 6,
   "metadata": {
    "collapsed": true
   },
   "outputs": [],
   "source": [
    "epochs = 4\n",
    "batch_size = 16\n",
    "num_classes = db.cat_encode.count()"
   ]
  },
  {
   "cell_type": "code",
   "execution_count": 7,
   "metadata": {
    "collapsed": true
   },
   "outputs": [],
   "source": [
    "def simple_model(epochs=epochs, num_classes=num_classes, lrate=0.01, momentum=0.9):\n",
    "    \n",
    "    # Convolutional Layer\n",
    "    model = Sequential()\n",
    "    # Convolutional Layer\n",
    "    model.add(Conv2D(40, (3,3), input_shape = (180,180,3), activation='relu'))\n",
    "\n",
    "    # Pooling Layer\n",
    "    model.add(MaxPooling2D(pool_size=(2, 1)))\n",
    "    \n",
    "    # Fully conected Layer\n",
    "    model.add(Flatten())\n",
    "    model.add(Dense(num_classes, activation='softmax'))\n",
    "\n",
    "\n",
    "    lrate = 0.01\n",
    "    decay = lrate/epochs\n",
    "    sgd = SGD(lr=lrate, momentum=0.9, decay=decay, nesterov=False)\n",
    "\n",
    "#     model.compile(loss='categorical_crossentropy', optimizer=sgd, metrics=['accuracy'])\n",
    "    model.compile(loss='categorical_crossentropy', optimizer='adam', metrics=['accuracy'])\n",
    "    return model"
   ]
  },
  {
   "cell_type": "code",
   "execution_count": 8,
   "metadata": {
    "collapsed": true
   },
   "outputs": [],
   "source": [
    "def deeper_model(epochs=epochs, num_classes=num_classes, lrate=0.01, momentum=0.9):\n",
    "    # Convolutional Layer\n",
    "    model = Sequential()\n",
    "    # Convolutional Layer\n",
    "    model.add(Conv2D(10, (3,3), input_shape = (180,180,3), activation='relu'))\n",
    "    model.add(Conv2D(13, 3, activation='relu', padding='same'))\n",
    "    model.add(Conv2D(14, 3, activation='relu', padding='same'))\n",
    "\n",
    "    # Pooling Layer\n",
    "    model.add(MaxPooling2D(pool_size=(2, 1)))\n",
    "    \n",
    "    \n",
    "    model.add(Conv2D(20, 3, activation='relu', padding='same'))    \n",
    "    model.add(Conv2D(26, 3, activation='relu', padding='same'))\n",
    "    \n",
    "    # Fully conected Layer\n",
    "    model.add(Flatten())\n",
    "    model.add(Dense(num_classes, activation='softmax'))\n",
    "\n",
    "\n",
    "    lrate = 0.01\n",
    "    decay = lrate/epochs\n",
    "    sgd = SGD(lr=lrate, momentum=0.9, decay=decay, nesterov=False)\n",
    "\n",
    "#     model.compile(loss='categorical_crossentropy', optimizer=sgd, metrics=['accuracy'])\n",
    "    model.compile(loss='categorical_crossentropy', optimizer='adam', metrics=['accuracy'])\n",
    "    return model\n",
    "    "
   ]
  },
  {
   "cell_type": "code",
   "execution_count": 9,
   "metadata": {
    "collapsed": true
   },
   "outputs": [],
   "source": [
    "# model =simple_model(epochs=epochs, num_classes=num_classes)\n",
    "model =deeper_model(epochs=epochs, num_classes=num_classes)\n"
   ]
  },
  {
   "cell_type": "code",
   "execution_count": 10,
   "metadata": {
    "collapsed": true
   },
   "outputs": [],
   "source": [
    "import time"
   ]
  },
  {
   "cell_type": "code",
   "execution_count": 11,
   "metadata": {
    "scrolled": true
   },
   "outputs": [
    {
     "name": "stdout",
     "output_type": "stream",
     "text": [
      "X batch size:  (600, 180, 180, 3)\n",
      "Y batch size:  (600, 5270)\n",
      "Train on 480 samples, validate on 120 samples\n",
      "Epoch 1/4\n",
      "480/480 [==============================] - 13s - loss: 6.2560 - acc: 0.3354 - val_loss: 5.1754 - val_acc: 0.4167\n",
      "Epoch 2/4\n",
      "480/480 [==============================] - 6s - loss: 3.8659 - acc: 0.4250 - val_loss: 4.5896 - val_acc: 0.4167\n",
      "Epoch 3/4\n",
      "480/480 [==============================] - 6s - loss: 3.5648 - acc: 0.4250 - val_loss: 4.8792 - val_acc: 0.4167\n",
      "Epoch 4/4\n",
      "480/480 [==============================] - 6s - loss: 3.4298 - acc: 0.4250 - val_loss: 4.6881 - val_acc: 0.4167\n",
      "row count:  600\n",
      "model_600.h5\n",
      "Model saved\n",
      "X batch size:  (600, 180, 180, 3)\n",
      "Y batch size:  (600, 5270)\n",
      "Train on 480 samples, validate on 120 samples\n",
      "Epoch 1/4\n",
      "480/480 [==============================] - 6s - loss: 4.4762 - acc: 0.4104 - val_loss: 3.6155 - val_acc: 0.4583\n",
      "Epoch 2/4\n",
      "480/480 [==============================] - 6s - loss: 3.5414 - acc: 0.4104 - val_loss: 3.6729 - val_acc: 0.4583\n",
      "Epoch 3/4\n",
      "480/480 [==============================] - 6s - loss: 3.2116 - acc: 0.4104 - val_loss: 3.7508 - val_acc: 0.4583\n",
      "Epoch 4/4\n",
      "480/480 [==============================] - 6s - loss: 2.9674 - acc: 0.4125 - val_loss: 3.7762 - val_acc: 0.4500\n",
      "row count:  600\n",
      "model_1200.h5\n",
      "Model saved\n",
      "--- 76.20364594459534 seconds ---\n"
     ]
    }
   ],
   "source": [
    "start_time = time.time()\n",
    "\n",
    "counter = 0\n",
    "row_count = 0\n",
    "for j in range(0,num_batch-1):\n",
    "# for j in range(0,1):\n",
    "    \n",
    "    a1 = int(list(np.linspace(first,last,num_batch))[j])\n",
    "    an = int(list(np.linspace(first,last,num_batch))[j+1])\n",
    "    \n",
    "    lst_batch = []\n",
    "    \n",
    "#     print(a1,an)\n",
    "    \n",
    "    cur = db.train.find({})[a1:an]\n",
    "    \n",
    "    m= an-a1\n",
    "        \n",
    "    i = 0\n",
    "#     pic_array\n",
    "    while (cur.alive):\n",
    "        idx = cur.next()\n",
    "        dic = {}\n",
    "        \n",
    "        category_id =idx['category_id'] \n",
    "    #     print(category_id)\n",
    "\n",
    "        cat = db.cat_encode.find_one({ \"cat\" : (category_id)}, {\"cat\" : 1.0, \"_id\" : 0})['cat']\n",
    "    #     print(cat)\n",
    "        \n",
    "        picture = np.float32(imread(io.BytesIO(idx['imgs'][0]['picture']))/255.0)\n",
    "        picture = picture.reshape(180,180,3)\n",
    "        \n",
    "        dic['picture'] = picture\n",
    "        \n",
    "        encode = db.cat_encode.find_one({ \"cat\" : (category_id)}, {\"encode\" : 1.0, \"_id\" : 0})['encode']\n",
    "    #     print(encode)\n",
    "        dic['encode'] = encode\n",
    "        \n",
    "        lst_batch.append(dic)\n",
    "        \n",
    "        i+=1\n",
    "    X_batch = np.array([lst['picture'] for lst in lst_batch])\n",
    "    Y_batch = np.array([lst['encode'] for lst in lst_batch])\n",
    "    print('X batch size: ', X_batch.shape)\n",
    "    print('Y batch size: ', Y_batch.shape)\n",
    "    \n",
    "    del(lst_batch)\n",
    "        \n",
    "    model.fit(X_batch, Y_batch, batch_size=batch_size, epochs=epochs, validation_split=0.2)\n",
    "    \n",
    "#     print(X_batch.shape[0])\n",
    "    row_count = row_count + X_batch.shape[0]\n",
    "    \n",
    "    if(row_count >= 100000):\n",
    "        print('row count: ',row_count)\n",
    "        counter = counter + row_count\n",
    "        model_name = 'model_' + str(counter) +'.h5'\n",
    "        print(model_name)\n",
    "        model.model.save('E://kaggle//Cdiscount//model//'+model_name)\n",
    "        print('Model saved')\n",
    "        row_count = 0\n",
    "    \n",
    "print(\"--- %s seconds ---\" % (time.time() - start_time))\n",
    "model.model.save('E://kaggle//Cdiscount//model//final_model.h5')"
   ]
  },
  {
   "cell_type": "code",
   "execution_count": null,
   "metadata": {
    "collapsed": true
   },
   "outputs": [],
   "source": []
  },
  {
   "cell_type": "code",
   "execution_count": null,
   "metadata": {
    "collapsed": true
   },
   "outputs": [],
   "source": []
  },
  {
   "cell_type": "code",
   "execution_count": null,
   "metadata": {
    "collapsed": true
   },
   "outputs": [],
   "source": []
  },
  {
   "cell_type": "code",
   "execution_count": 12,
   "metadata": {
    "scrolled": false
   },
   "outputs": [],
   "source": [
    "# start_time = time.time()\n",
    "\n",
    "# counter = 0\n",
    "# for j in range(0,num_batch-1):\n",
    "# # for j in range(0,1):\n",
    "    \n",
    "#     a1 = int(list(np.linspace(first,last,num_batch))[j])\n",
    "#     an = int(list(np.linspace(first,last,num_batch))[j+1])\n",
    "    \n",
    "#     lst_batch = []\n",
    "    \n",
    "# #     print(a1,an)\n",
    "    \n",
    "#     cur = db.train.find({})[a1:an]\n",
    "    \n",
    "#     m= an-a1\n",
    "        \n",
    "#     i = 0\n",
    "# #     pic_array\n",
    "#     while (cur.alive):\n",
    "#         idx = cur.next()\n",
    "#         dic = {}\n",
    "        \n",
    "#         category_id =idx['category_id'] \n",
    "#     #     print(category_id)\n",
    "\n",
    "#         cat = db.cat_encode.find_one({ \"cat\" : (category_id)}, {\"cat\" : 1.0, \"_id\" : 0})['cat']\n",
    "#     #     print(cat)\n",
    "        \n",
    "#         picture = np.float32(imread(io.BytesIO(idx['imgs'][0]['picture']))/255.0)\n",
    "#         picture = picture.reshape(180,180,3)\n",
    "        \n",
    "#         dic['picture'] = picture\n",
    "        \n",
    "#         encode = db.cat_encode.find_one({ \"cat\" : (category_id)}, {\"encode\" : 1.0, \"_id\" : 0})['encode']\n",
    "#     #     print(encode)\n",
    "#         dic['encode'] = encode\n",
    "        \n",
    "#         lst_batch.append(dic)\n",
    "        \n",
    "#         i+=1\n",
    "#     X_batch = np.array([lst['picture'] for lst in lst_batch])\n",
    "#     Y_batch = np.array([lst['encode'] for lst in lst_batch])\n",
    "#     print(X_batch.shape)\n",
    "#     print(Y_batch.shape)\n",
    "    \n",
    "#     del(lst_batch)\n",
    "    \n",
    "#     model.fit(X_batch, Y_batch, batch_size=batch_size, epochs=epochs, validation_split=0.2)\n",
    "    \n",
    "# print(\"--- %s seconds ---\" % (time.time() - start_time))"
   ]
  },
  {
   "cell_type": "code",
   "execution_count": null,
   "metadata": {
    "collapsed": true
   },
   "outputs": [],
   "source": []
  }
 ],
 "metadata": {
  "anaconda-cloud": {},
  "kernelspec": {
   "display_name": "Python [default]",
   "language": "python",
   "name": "python3"
  },
  "language_info": {
   "codemirror_mode": {
    "name": "ipython",
    "version": 3
   },
   "file_extension": ".py",
   "mimetype": "text/x-python",
   "name": "python",
   "nbconvert_exporter": "python",
   "pygments_lexer": "ipython3",
   "version": "3.5.2"
  }
 },
 "nbformat": 4,
 "nbformat_minor": 2
}
