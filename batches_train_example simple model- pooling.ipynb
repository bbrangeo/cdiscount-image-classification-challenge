{
 "cells": [
  {
   "cell_type": "code",
   "execution_count": 1,
   "metadata": {
    "collapsed": true
   },
   "outputs": [],
   "source": [
    "import pymongo\n",
    "from pymongo import MongoClient\n",
    "client = MongoClient()\n",
    "client = MongoClient('localhost', 27017)\n",
    "# client = MongoClient('mongodb://localhost:27017/')\n",
    "db = client.db_cdiscount"
   ]
  },
  {
   "cell_type": "code",
   "execution_count": 2,
   "metadata": {
    "collapsed": true
   },
   "outputs": [],
   "source": [
    "import io\n",
    "import bson                       # this is installed with the pymongo package\n",
    "import matplotlib.pyplot as plt\n",
    "from skimage.data import imread   # or, whatever image library you prefer\n",
    "import multiprocessing as mp      # will come in handy due to the size of the data"
   ]
  },
  {
   "cell_type": "code",
   "execution_count": 3,
   "metadata": {
    "collapsed": true
   },
   "outputs": [],
   "source": [
    "import numpy as np"
   ]
  },
  {
   "cell_type": "code",
   "execution_count": 6,
   "metadata": {},
   "outputs": [],
   "source": [
    "from keras.models import Sequential\n",
    "from keras.layers import Dense, Activation\n",
    "from keras.layers import Dropout\n",
    "from keras.layers import Flatten\n",
    "from keras.constraints import maxnorm\n",
    "from keras.optimizers import SGD\n",
    "from keras.layers.convolutional import Conv2D\n",
    "from keras.layers.convolutional import MaxPooling2D\n",
    "from keras.utils import np_utils\n",
    "from keras import backend as K\n",
    "import keras\n",
    "K.set_image_dim_ordering('th')"
   ]
  },
  {
   "cell_type": "code",
   "execution_count": 12,
   "metadata": {
    "collapsed": true
   },
   "outputs": [],
   "source": [
    "first = 0\n",
    "num_batch = 10\n",
    "last = 82\n",
    "# last = 100000"
   ]
  },
  {
   "cell_type": "code",
   "execution_count": 13,
   "metadata": {
    "collapsed": true
   },
   "outputs": [],
   "source": [
    "epochs = 10\n",
    "num_classes = db.cat_encode.count()"
   ]
  },
  {
   "cell_type": "code",
   "execution_count": 14,
   "metadata": {
    "collapsed": true
   },
   "outputs": [],
   "source": [
    "def simple_model(epochs=epochs, num_classes=num_classes, lrate=0.01, momentum=0.9):\n",
    "    \n",
    "    # Convolutional Layer\n",
    "    model = Sequential()\n",
    "    # Convolutional Layer\n",
    "    model.add(Conv2D(40, (3,3), input_shape = (180,180,3), activation='relu'))\n",
    "\n",
    "    # Pooling Layer\n",
    "    model.add(MaxPooling2D(pool_size=(2, 1)))\n",
    "    \n",
    "    # Fully conected Layer\n",
    "    model.add(Flatten())\n",
    "    model.add(Dense(num_classes, activation='softmax'))\n",
    "\n",
    "\n",
    "    lrate = 0.01\n",
    "    decay = lrate/epochs\n",
    "    sgd = SGD(lr=lrate, momentum=0.9, decay=decay, nesterov=False)\n",
    "\n",
    "#     model.compile(loss='categorical_crossentropy', optimizer=sgd, metrics=['accuracy'])\n",
    "    model.compile(loss='categorical_crossentropy', optimizer='adam', metrics=['accuracy'])\n",
    "    return model"
   ]
  },
  {
   "cell_type": "code",
   "execution_count": 15,
   "metadata": {
    "collapsed": true
   },
   "outputs": [],
   "source": [
    "model =simple_model(epochs=epochs, num_classes=num_classes)"
   ]
  },
  {
   "cell_type": "code",
   "execution_count": 18,
   "metadata": {
    "scrolled": true
   },
   "outputs": [
    {
     "name": "stdout",
     "output_type": "stream",
     "text": [
      "(9, 180, 180, 3)\n",
      "(9, 5270)\n",
      "Train on 7 samples, validate on 2 samples\n",
      "Epoch 1/10\n",
      "7/7 [==============================] - 0s - loss: 8.5910 - acc: 0.0000e+00 - val_loss: 7.2227 - val_acc: 0.0000e+00\n",
      "Epoch 2/10\n",
      "7/7 [==============================] - 0s - loss: 3.9557 - acc: 0.1429 - val_loss: 10.0576 - val_acc: 0.0000e+00\n",
      "Epoch 3/10\n",
      "7/7 [==============================] - 0s - loss: 3.6682 - acc: 0.2857 - val_loss: 8.7932 - val_acc: 0.0000e+00\n",
      "Epoch 4/10\n",
      "7/7 [==============================] - 0s - loss: 5.3156 - acc: 0.4286 - val_loss: 12.8152 - val_acc: 0.0000e+00\n",
      "Epoch 5/10\n",
      "7/7 [==============================] - 0s - loss: 7.4750 - acc: 0.4286 - val_loss: 9.8012 - val_acc: 0.0000e+00\n",
      "Epoch 6/10\n",
      "7/7 [==============================] - 0s - loss: 6.3546 - acc: 0.1429 - val_loss: 8.0603 - val_acc: 0.5000\n",
      "Epoch 7/10\n",
      "7/7 [==============================] - 0s - loss: 6.9676 - acc: 0.2857 - val_loss: 12.1952 - val_acc: 0.0000e+00\n",
      "Epoch 8/10\n",
      "7/7 [==============================] - 0s - loss: 6.2581 - acc: 0.1429 - val_loss: 12.6000 - val_acc: 0.0000e+00\n",
      "Epoch 9/10\n",
      "7/7 [==============================] - 0s - loss: 3.8450 - acc: 0.5714 - val_loss: 13.5515 - val_acc: 0.0000e+00\n",
      "Epoch 10/10\n",
      "7/7 [==============================] - 0s - loss: 4.4545 - acc: 0.4286 - val_loss: 12.5693 - val_acc: 0.0000e+00\n",
      "(9, 180, 180, 3)\n",
      "(9, 5270)\n",
      "Train on 7 samples, validate on 2 samples\n",
      "Epoch 1/10\n",
      "7/7 [==============================] - 0s - loss: 9.9763 - acc: 0.1429 - val_loss: 8.1232 - val_acc: 0.5000\n",
      "Epoch 2/10\n",
      "7/7 [==============================] - 0s - loss: 9.2572 - acc: 0.4286 - val_loss: 8.0598 - val_acc: 0.5000\n",
      "Epoch 3/10\n",
      "7/7 [==============================] - 0s - loss: 9.2112 - acc: 0.4286 - val_loss: 8.0591 - val_acc: 0.5000\n",
      "Epoch 4/10\n",
      "7/7 [==============================] - 0s - loss: 9.2104 - acc: 0.4286 - val_loss: 8.0590 - val_acc: 0.5000\n",
      "Epoch 5/10\n",
      "7/7 [==============================] - 0s - loss: 9.2103 - acc: 0.4286 - val_loss: 8.0590 - val_acc: 0.5000\n",
      "Epoch 6/10\n",
      "7/7 [==============================] - 0s - loss: 9.2103 - acc: 0.4286 - val_loss: 8.0590 - val_acc: 0.5000\n",
      "Epoch 7/10\n",
      "7/7 [==============================] - 0s - loss: 9.2103 - acc: 0.4286 - val_loss: 8.0590 - val_acc: 0.5000\n",
      "Epoch 8/10\n",
      "7/7 [==============================] - 0s - loss: 9.2103 - acc: 0.4286 - val_loss: 8.0590 - val_acc: 0.5000\n",
      "Epoch 9/10\n",
      "7/7 [==============================] - 0s - loss: 9.2103 - acc: 0.4286 - val_loss: 8.0590 - val_acc: 0.5000\n",
      "Epoch 10/10\n",
      "7/7 [==============================] - 0s - loss: 9.2103 - acc: 0.4286 - val_loss: 8.0590 - val_acc: 0.5000\n",
      "(9, 180, 180, 3)\n",
      "(9, 5270)\n",
      "Train on 7 samples, validate on 2 samples\n",
      "Epoch 1/10\n",
      "7/7 [==============================] - 0s - loss: 6.9078 - acc: 0.5714 - val_loss: 16.1181 - val_acc: 0.0000e+00\n",
      "Epoch 2/10\n",
      "7/7 [==============================] - 0s - loss: 6.9078 - acc: 0.5714 - val_loss: 16.1181 - val_acc: 0.0000e+00\n",
      "Epoch 3/10\n",
      "7/7 [==============================] - 0s - loss: 6.9078 - acc: 0.5714 - val_loss: 16.1181 - val_acc: 0.0000e+00\n",
      "Epoch 4/10\n",
      "7/7 [==============================] - 0s - loss: 6.9078 - acc: 0.5714 - val_loss: 16.1181 - val_acc: 0.0000e+00\n",
      "Epoch 5/10\n",
      "7/7 [==============================] - 0s - loss: 6.9078 - acc: 0.5714 - val_loss: 16.1181 - val_acc: 0.0000e+00\n",
      "Epoch 6/10\n",
      "7/7 [==============================] - 0s - loss: 6.9078 - acc: 0.5714 - val_loss: 16.1181 - val_acc: 0.0000e+00\n",
      "Epoch 7/10\n",
      "7/7 [==============================] - 0s - loss: 6.9078 - acc: 0.5714 - val_loss: 16.1181 - val_acc: 0.0000e+00\n",
      "Epoch 8/10\n",
      "7/7 [==============================] - 0s - loss: 6.9078 - acc: 0.5714 - val_loss: 16.1181 - val_acc: 0.0000e+00\n",
      "Epoch 9/10\n",
      "7/7 [==============================] - 0s - loss: 6.9078 - acc: 0.5714 - val_loss: 16.1181 - val_acc: 0.0000e+00\n",
      "Epoch 10/10\n",
      "7/7 [==============================] - 0s - loss: 6.9078 - acc: 0.5714 - val_loss: 16.1181 - val_acc: 0.0000e+00\n",
      "(9, 180, 180, 3)\n",
      "(9, 5270)\n",
      "Train on 7 samples, validate on 2 samples\n",
      "Epoch 1/10\n",
      "7/7 [==============================] - 0s - loss: 6.9078 - acc: 0.5714 - val_loss: 16.1181 - val_acc: 0.0000e+00\n",
      "Epoch 2/10\n",
      "7/7 [==============================] - 0s - loss: 6.9078 - acc: 0.5714 - val_loss: 16.1181 - val_acc: 0.0000e+00\n",
      "Epoch 3/10\n",
      "7/7 [==============================] - 0s - loss: 6.9078 - acc: 0.5714 - val_loss: 16.1181 - val_acc: 0.0000e+00\n",
      "Epoch 4/10\n",
      "7/7 [==============================] - 0s - loss: 6.9078 - acc: 0.5714 - val_loss: 16.1181 - val_acc: 0.0000e+00\n",
      "Epoch 5/10\n",
      "7/7 [==============================] - 0s - loss: 6.9078 - acc: 0.5714 - val_loss: 16.1181 - val_acc: 0.0000e+00\n",
      "Epoch 6/10\n",
      "7/7 [==============================] - 0s - loss: 6.9078 - acc: 0.5714 - val_loss: 16.1181 - val_acc: 0.0000e+00\n",
      "Epoch 7/10\n",
      "7/7 [==============================] - 0s - loss: 6.9078 - acc: 0.5714 - val_loss: 16.1181 - val_acc: 0.0000e+00\n",
      "Epoch 8/10\n",
      "7/7 [==============================] - 0s - loss: 6.9078 - acc: 0.5714 - val_loss: 16.1181 - val_acc: 0.0000e+00\n",
      "Epoch 9/10\n",
      "7/7 [==============================] - 0s - loss: 6.9078 - acc: 0.5714 - val_loss: 16.1181 - val_acc: 0.0000e+00\n",
      "Epoch 10/10\n",
      "7/7 [==============================] - 0s - loss: 6.9078 - acc: 0.5714 - val_loss: 16.1181 - val_acc: 0.0000e+00\n",
      "(9, 180, 180, 3)\n",
      "(9, 5270)\n",
      "Train on 7 samples, validate on 2 samples\n",
      "Epoch 1/10\n",
      "7/7 [==============================] - 0s - loss: 9.2103 - acc: 0.4286 - val_loss: 1.1921e-07 - val_acc: 1.0000\n",
      "Epoch 2/10\n",
      "7/7 [==============================] - 0s - loss: 9.2103 - acc: 0.4286 - val_loss: 1.1921e-07 - val_acc: 1.0000\n",
      "Epoch 3/10\n",
      "7/7 [==============================] - 0s - loss: 9.2103 - acc: 0.4286 - val_loss: 1.1921e-07 - val_acc: 1.0000\n",
      "Epoch 4/10\n",
      "7/7 [==============================] - 0s - loss: 9.2103 - acc: 0.4286 - val_loss: 1.1921e-07 - val_acc: 1.0000\n",
      "Epoch 5/10\n",
      "7/7 [==============================] - 0s - loss: 9.2103 - acc: 0.4286 - val_loss: 1.1921e-07 - val_acc: 1.0000\n",
      "Epoch 6/10\n",
      "7/7 [==============================] - 0s - loss: 9.2103 - acc: 0.4286 - val_loss: 1.1921e-07 - val_acc: 1.0000\n",
      "Epoch 7/10\n",
      "7/7 [==============================] - 0s - loss: 9.2103 - acc: 0.4286 - val_loss: 1.1921e-07 - val_acc: 1.0000\n",
      "Epoch 8/10\n",
      "7/7 [==============================] - 0s - loss: 9.2103 - acc: 0.4286 - val_loss: 1.1921e-07 - val_acc: 1.0000\n",
      "Epoch 9/10\n",
      "7/7 [==============================] - 0s - loss: 9.2103 - acc: 0.4286 - val_loss: 1.1921e-07 - val_acc: 1.0000\n",
      "Epoch 10/10\n",
      "7/7 [==============================] - 0s - loss: 9.2103 - acc: 0.4286 - val_loss: 1.1921e-07 - val_acc: 1.0000\n",
      "(9, 180, 180, 3)\n",
      "(9, 5270)\n",
      "Train on 7 samples, validate on 2 samples\n",
      "Epoch 1/10\n",
      "7/7 [==============================] - 0s - loss: 11.5129 - acc: 0.2857 - val_loss: 16.1181 - val_acc: 0.0000e+00\n",
      "Epoch 2/10\n",
      "7/7 [==============================] - 0s - loss: 11.5129 - acc: 0.2857 - val_loss: 16.1181 - val_acc: 0.0000e+00\n",
      "Epoch 3/10\n",
      "7/7 [==============================] - 0s - loss: 11.5129 - acc: 0.2857 - val_loss: 16.1181 - val_acc: 0.0000e+00\n",
      "Epoch 4/10\n",
      "7/7 [==============================] - 0s - loss: 11.5129 - acc: 0.2857 - val_loss: 16.1181 - val_acc: 0.0000e+00\n",
      "Epoch 5/10\n",
      "7/7 [==============================] - 0s - loss: 11.5129 - acc: 0.2857 - val_loss: 16.1181 - val_acc: 0.0000e+00\n",
      "Epoch 6/10\n",
      "7/7 [==============================] - 0s - loss: 11.5129 - acc: 0.2857 - val_loss: 16.1181 - val_acc: 0.0000e+00\n",
      "Epoch 7/10\n",
      "7/7 [==============================] - 0s - loss: 11.5129 - acc: 0.2857 - val_loss: 16.1181 - val_acc: 0.0000e+00\n",
      "Epoch 8/10\n",
      "7/7 [==============================] - 0s - loss: 11.5129 - acc: 0.2857 - val_loss: 16.1181 - val_acc: 0.0000e+00\n",
      "Epoch 9/10\n",
      "7/7 [==============================] - 0s - loss: 11.5129 - acc: 0.2857 - val_loss: 16.1181 - val_acc: 0.0000e+00\n",
      "Epoch 10/10\n",
      "7/7 [==============================] - 0s - loss: 11.5129 - acc: 0.2857 - val_loss: 16.1181 - val_acc: 0.0000e+00\n",
      "(9, 180, 180, 3)\n",
      "(9, 5270)\n",
      "Train on 7 samples, validate on 2 samples\n",
      "Epoch 1/10\n",
      "7/7 [==============================] - 0s - loss: 11.5129 - acc: 0.2857 - val_loss: 1.1921e-07 - val_acc: 1.0000\n",
      "Epoch 2/10\n",
      "7/7 [==============================] - 0s - loss: 11.5129 - acc: 0.2857 - val_loss: 1.1921e-07 - val_acc: 1.0000\n",
      "Epoch 3/10\n"
     ]
    },
    {
     "name": "stdout",
     "output_type": "stream",
     "text": [
      "7/7 [==============================] - 0s - loss: 11.5129 - acc: 0.2857 - val_loss: 1.1921e-07 - val_acc: 1.0000\n",
      "Epoch 4/10\n",
      "7/7 [==============================] - 0s - loss: 11.5129 - acc: 0.2857 - val_loss: 1.1921e-07 - val_acc: 1.0000\n",
      "Epoch 5/10\n",
      "7/7 [==============================] - 0s - loss: 11.5129 - acc: 0.2857 - val_loss: 1.1921e-07 - val_acc: 1.0000\n",
      "Epoch 6/10\n",
      "7/7 [==============================] - 0s - loss: 11.5129 - acc: 0.2857 - val_loss: 1.1921e-07 - val_acc: 1.0000\n",
      "Epoch 7/10\n",
      "7/7 [==============================] - 0s - loss: 11.5129 - acc: 0.2857 - val_loss: 1.1921e-07 - val_acc: 1.0000\n",
      "Epoch 8/10\n",
      "7/7 [==============================] - 0s - loss: 11.5129 - acc: 0.2857 - val_loss: 1.1921e-07 - val_acc: 1.0000\n",
      "Epoch 9/10\n",
      "7/7 [==============================] - 0s - loss: 11.5129 - acc: 0.2857 - val_loss: 1.1921e-07 - val_acc: 1.0000\n",
      "Epoch 10/10\n",
      "7/7 [==============================] - 0s - loss: 11.5129 - acc: 0.2857 - val_loss: 1.1921e-07 - val_acc: 1.0000\n",
      "(9, 180, 180, 3)\n",
      "(9, 5270)\n",
      "Train on 7 samples, validate on 2 samples\n",
      "Epoch 1/10\n",
      "7/7 [==============================] - 0s - loss: 4.6052 - acc: 0.7143 - val_loss: 16.1181 - val_acc: 0.0000e+00\n",
      "Epoch 2/10\n",
      "7/7 [==============================] - 0s - loss: 4.6052 - acc: 0.7143 - val_loss: 16.1181 - val_acc: 0.0000e+00\n",
      "Epoch 3/10\n",
      "7/7 [==============================] - 0s - loss: 4.6052 - acc: 0.7143 - val_loss: 16.1181 - val_acc: 0.0000e+00\n",
      "Epoch 4/10\n",
      "7/7 [==============================] - 0s - loss: 4.6052 - acc: 0.7143 - val_loss: 16.1181 - val_acc: 0.0000e+00\n",
      "Epoch 5/10\n",
      "7/7 [==============================] - 0s - loss: 4.6052 - acc: 0.7143 - val_loss: 16.1181 - val_acc: 0.0000e+00\n",
      "Epoch 6/10\n",
      "7/7 [==============================] - 0s - loss: 4.6052 - acc: 0.7143 - val_loss: 16.1181 - val_acc: 0.0000e+00\n",
      "Epoch 7/10\n",
      "7/7 [==============================] - 0s - loss: 4.6052 - acc: 0.7143 - val_loss: 16.1181 - val_acc: 0.0000e+00\n",
      "Epoch 8/10\n",
      "7/7 [==============================] - 0s - loss: 4.6052 - acc: 0.7143 - val_loss: 16.1181 - val_acc: 0.0000e+00\n",
      "Epoch 9/10\n",
      "7/7 [==============================] - 0s - loss: 4.6052 - acc: 0.7143 - val_loss: 16.1181 - val_acc: 0.0000e+00\n",
      "Epoch 10/10\n",
      "7/7 [==============================] - 0s - loss: 4.6052 - acc: 0.7143 - val_loss: 16.1181 - val_acc: 0.0000e+00\n",
      "(10, 180, 180, 3)\n",
      "(10, 5270)\n",
      "Train on 8 samples, validate on 2 samples\n",
      "Epoch 1/10\n",
      "8/8 [==============================] - 0s - loss: 2.0148 - acc: 0.8750 - val_loss: 16.1181 - val_acc: 0.0000e+00\n",
      "Epoch 2/10\n",
      "8/8 [==============================] - 0s - loss: 2.0148 - acc: 0.8750 - val_loss: 16.1181 - val_acc: 0.0000e+00\n",
      "Epoch 3/10\n",
      "8/8 [==============================] - 0s - loss: 2.0148 - acc: 0.8750 - val_loss: 16.1181 - val_acc: 0.0000e+00\n",
      "Epoch 4/10\n",
      "8/8 [==============================] - 0s - loss: 2.0148 - acc: 0.8750 - val_loss: 16.1181 - val_acc: 0.0000e+00\n",
      "Epoch 5/10\n",
      "8/8 [==============================] - 0s - loss: 2.0148 - acc: 0.8750 - val_loss: 16.1181 - val_acc: 0.0000e+00\n",
      "Epoch 6/10\n",
      "8/8 [==============================] - 0s - loss: 2.0148 - acc: 0.8750 - val_loss: 16.1181 - val_acc: 0.0000e+00\n",
      "Epoch 7/10\n",
      "8/8 [==============================] - 0s - loss: 2.0148 - acc: 0.8750 - val_loss: 16.1181 - val_acc: 0.0000e+00\n",
      "Epoch 8/10\n",
      "8/8 [==============================] - 0s - loss: 2.0148 - acc: 0.8750 - val_loss: 16.1181 - val_acc: 0.0000e+00\n",
      "Epoch 9/10\n",
      "8/8 [==============================] - 0s - loss: 2.0148 - acc: 0.8750 - val_loss: 16.1181 - val_acc: 0.0000e+00\n",
      "Epoch 10/10\n",
      "8/8 [==============================] - 0s - loss: 2.0148 - acc: 0.8750 - val_loss: 16.1181 - val_acc: 0.0000e+00\n",
      "82\n"
     ]
    }
   ],
   "source": [
    "counter = 0\n",
    "for j in range(0,num_batch-1):\n",
    "# for j in range(0,1):\n",
    "    \n",
    "    a1 = int(list(np.linspace(first,last,num_batch))[j])\n",
    "    an = int(list(np.linspace(first,last,num_batch))[j+1])\n",
    "    \n",
    "    lst_batch = []\n",
    "    ## training Data\n",
    "    for i in (db.train_example.find({})[a1:an]):\n",
    "        dic = {}\n",
    "    #     print('category_id: ', i['category_id'])\n",
    "        dic['category_id'] = i['category_id']\n",
    "\n",
    "    #     print('cat: ', db.cat_encode.find_one({ \"cat\" : (1000004079)}, {\"cat\" : 1.0, \"_id\" : 0})['cat'])\n",
    "        dic['cat'] = db.cat_encode.find_one({ \"cat\" : (i['category_id'])}, {\"cat\" : 1.0, \"_id\" : 0})['cat']\n",
    "\n",
    "    #     print('img: ', i['imgs'])\n",
    "#         dic['imgs'] = i['imgs']\n",
    "        picture = imread(io.BytesIO(i['imgs'][0]['picture']))\n",
    "    ## divide image by 255.0\n",
    "        picture = picture/255.0\n",
    "        dic['picture'] = picture.reshape(180,180,3)\n",
    "\n",
    "    #     print('encode: ', db.cat_encode.find_one({ \"cat\" : (1000004079)}, {\"encode\" : 1.0, \"_id\" : 0})['encode'])\n",
    "        dic['encode'] = db.cat_encode.find_one({ \"cat\" : (i['category_id'])}, {\"encode\" : 1.0, \"_id\" : 0})['encode']\n",
    "\n",
    "        lst_batch.append(dic)\n",
    "             \n",
    "        counter = counter +1\n",
    "        \n",
    "    \n",
    "    X_batch = np.array([lst['picture'] for lst in lst_batch])\n",
    "    Y_batch = np.array([lst['encode'] for lst in lst_batch])\n",
    "    print(X_batch.shape)\n",
    "    print(Y_batch.shape)\n",
    "    model.fit(X_batch, Y_batch, batch_size=512, epochs=epochs, validation_split=0.2)\n",
    "    #, validation_split=0.2\n",
    "print(an)"
   ]
  },
  {
   "cell_type": "code",
   "execution_count": null,
   "metadata": {
    "collapsed": true
   },
   "outputs": [],
   "source": []
  },
  {
   "cell_type": "code",
   "execution_count": null,
   "metadata": {
    "collapsed": true
   },
   "outputs": [],
   "source": []
  },
  {
   "cell_type": "code",
   "execution_count": null,
   "metadata": {
    "collapsed": true
   },
   "outputs": [],
   "source": []
  },
  {
   "cell_type": "code",
   "execution_count": null,
   "metadata": {
    "collapsed": true
   },
   "outputs": [],
   "source": []
  },
  {
   "cell_type": "code",
   "execution_count": null,
   "metadata": {
    "collapsed": true
   },
   "outputs": [],
   "source": [
    "# len(np.unique([cat['category_id'] for cat in lst_batch]))"
   ]
  },
  {
   "cell_type": "code",
   "execution_count": null,
   "metadata": {
    "collapsed": true
   },
   "outputs": [],
   "source": [
    "# num_classes=len(dummy_y[81])\n",
    "# epochs = 5"
   ]
  }
 ],
 "metadata": {
  "anaconda-cloud": {},
  "kernelspec": {
   "display_name": "Python [default]",
   "language": "python",
   "name": "python3"
  },
  "language_info": {
   "codemirror_mode": {
    "name": "ipython",
    "version": 3
   },
   "file_extension": ".py",
   "mimetype": "text/x-python",
   "name": "python",
   "nbconvert_exporter": "python",
   "pygments_lexer": "ipython3",
   "version": "3.5.2"
  }
 },
 "nbformat": 4,
 "nbformat_minor": 2
}
