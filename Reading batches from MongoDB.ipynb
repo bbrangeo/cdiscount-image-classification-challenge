{
 "cells": [
  {
   "cell_type": "code",
   "execution_count": 1,
   "metadata": {
    "collapsed": true
   },
   "outputs": [],
   "source": [
    "import io\n",
    "import bson                       # this is installed with the pymongo package\n",
    "import matplotlib.pyplot as plt\n",
    "from skimage.data import imread   # or, whatever image library you prefer\n",
    "import multiprocessing as mp      # will come in handy due to the size of the data"
   ]
  },
  {
   "cell_type": "code",
   "execution_count": 2,
   "metadata": {
    "collapsed": true
   },
   "outputs": [],
   "source": [
    "import pandas as pd\n",
    "import numpy as np"
   ]
  },
  {
   "cell_type": "code",
   "execution_count": 3,
   "metadata": {
    "collapsed": true
   },
   "outputs": [],
   "source": [
    "file_dir = 'E://kaggle//Cdiscount//dataset'"
   ]
  },
  {
   "cell_type": "code",
   "execution_count": 4,
   "metadata": {
    "collapsed": true
   },
   "outputs": [],
   "source": [
    "data = bson.decode_file_iter(open(file_dir+'//train_example.bson', 'rb'))\n",
    "\n",
    "prod_to_category = dict()\n",
    "for c, d in enumerate(data):\n",
    "    product_id = d['_id']\n",
    "    category_id = d['category_id'] # This won't be in Test data'\n",
    "    \n",
    "#     print(d['category_id'])\n",
    "    prod_to_category['id'] = category_id\n",
    "    \n",
    "    lst_pic = []\n",
    "    for e, pic in enumerate(d['imgs']):\n",
    "        picture = imread(io.BytesIO(pic['picture']))\n",
    "        \n",
    "#         picture = np.float32(picture) / 255\n",
    "#         print((picture.shape))\n",
    "        lst_pic.append(picture)\n",
    "        # do something with the picture, etc\n",
    "    prod_to_category['pictures'] = lst_pic\n",
    "#     print(len(prod_to_category['pictures']))"
   ]
  },
  {
   "cell_type": "code",
   "execution_count": 5,
   "metadata": {
    "scrolled": true
   },
   "outputs": [
    {
     "data": {
      "text/plain": [
       "1000004085"
      ]
     },
     "execution_count": 5,
     "metadata": {},
     "output_type": "execute_result"
    }
   ],
   "source": [
    "(prod_to_category['id'])"
   ]
  },
  {
   "cell_type": "code",
   "execution_count": 6,
   "metadata": {},
   "outputs": [
    {
     "data": {
      "text/plain": [
       "[array([[[ 0.99607843,  0.99607843,  0.99607843],\n",
       "         [ 0.99607843,  0.99607843,  0.99607843],\n",
       "         [ 0.99607843,  0.99607843,  0.99607843],\n",
       "         ..., \n",
       "         [ 0.99607843,  0.99607843,  0.99607843],\n",
       "         [ 0.99607843,  0.99607843,  0.99607843],\n",
       "         [ 0.99607843,  0.99607843,  0.99607843]],\n",
       " \n",
       "        [[ 0.99607843,  0.99607843,  0.99607843],\n",
       "         [ 0.99607843,  0.99607843,  0.99607843],\n",
       "         [ 0.99607843,  0.99607843,  0.99607843],\n",
       "         ..., \n",
       "         [ 0.99607843,  0.99607843,  0.99607843],\n",
       "         [ 0.99607843,  0.99607843,  0.99607843],\n",
       "         [ 0.99607843,  0.99607843,  0.99607843]],\n",
       " \n",
       "        [[ 0.99607843,  0.99607843,  0.99607843],\n",
       "         [ 0.99607843,  0.99607843,  0.99607843],\n",
       "         [ 0.99607843,  0.99607843,  0.99607843],\n",
       "         ..., \n",
       "         [ 0.99607843,  0.99607843,  0.99607843],\n",
       "         [ 0.99607843,  0.99607843,  0.99607843],\n",
       "         [ 0.99607843,  0.99607843,  0.99607843]],\n",
       " \n",
       "        ..., \n",
       "        [[ 0.99607843,  0.99607843,  0.99607843],\n",
       "         [ 0.99607843,  0.99607843,  0.99607843],\n",
       "         [ 0.99607843,  0.99607843,  0.99607843],\n",
       "         ..., \n",
       "         [ 0.99607843,  0.99607843,  0.99607843],\n",
       "         [ 0.99607843,  0.99607843,  0.99607843],\n",
       "         [ 0.99607843,  0.99607843,  0.99607843]],\n",
       " \n",
       "        [[ 0.99607843,  0.99607843,  0.99607843],\n",
       "         [ 0.99607843,  0.99607843,  0.99607843],\n",
       "         [ 0.99607843,  0.99607843,  0.99607843],\n",
       "         ..., \n",
       "         [ 0.99607843,  0.99607843,  0.99607843],\n",
       "         [ 0.99607843,  0.99607843,  0.99607843],\n",
       "         [ 0.99607843,  0.99607843,  0.99607843]],\n",
       " \n",
       "        [[ 0.99607843,  0.99607843,  0.99607843],\n",
       "         [ 0.99607843,  0.99607843,  0.99607843],\n",
       "         [ 0.99607843,  0.99607843,  0.99607843],\n",
       "         ..., \n",
       "         [ 0.99607843,  0.99607843,  0.99607843],\n",
       "         [ 0.99607843,  0.99607843,  0.99607843],\n",
       "         [ 0.99607843,  0.99607843,  0.99607843]]], dtype=float32)]"
      ]
     },
     "execution_count": 6,
     "metadata": {},
     "output_type": "execute_result"
    }
   ],
   "source": [
    "lst_pic"
   ]
  },
  {
   "cell_type": "markdown",
   "metadata": {
    "collapsed": true
   },
   "source": [
    "# Building Model"
   ]
  },
  {
   "cell_type": "code",
   "execution_count": 2,
   "metadata": {},
   "outputs": [
    {
     "name": "stderr",
     "output_type": "stream",
     "text": [
      "Using TensorFlow backend.\n"
     ]
    }
   ],
   "source": [
    "from keras.models import Sequential\n",
    "from keras.layers import Dense\n",
    "from keras.layers import Dropout\n",
    "from keras.layers import Flatten\n",
    "from keras.constraints import maxnorm\n",
    "from keras.optimizers import SGD\n",
    "from keras.layers.convolutional import Conv2D\n",
    "from keras.layers.convolutional import MaxPooling2D\n",
    "from keras.utils import np_utils\n",
    "from keras import backend as K\n",
    "K.set_image_dim_ordering('th')"
   ]
  },
  {
   "cell_type": "code",
   "execution_count": null,
   "metadata": {
    "collapsed": true
   },
   "outputs": [],
   "source": []
  },
  {
   "cell_type": "code",
   "execution_count": null,
   "metadata": {
    "collapsed": true
   },
   "outputs": [],
   "source": []
  },
  {
   "cell_type": "code",
   "execution_count": 6,
   "metadata": {
    "collapsed": true
   },
   "outputs": [],
   "source": [
    "num_classes=10\n",
    "epochs = 10"
   ]
  },
  {
   "cell_type": "code",
   "execution_count": 7,
   "metadata": {
    "collapsed": true
   },
   "outputs": [],
   "source": [
    "model = Sequential()\n",
    "# Convolutional Layer\n",
    "model.add(Conv2D(32, (3,3), input_shape = (32,32,3), activation='relu'))\n",
    "\n",
    "model.add(Dropout(0.2))\n",
    "model.add(Conv2D(32, (3, 3), activation='relu', padding='same', kernel_constraint=maxnorm(3)))\n",
    "model.add(MaxPooling2D(pool_size=(2, 1)))\n",
    "model.add(Flatten())\n",
    "model.add(Dense(512, activation='relu', kernel_constraint=maxnorm(3)))\n",
    "model.add(Dropout(0.5))\n",
    "model.add(Dense(num_classes, activation='softmax')) \n",
    "\n",
    "\n",
    "lrate = 0.01\n",
    "decay = lrate/epochs\n",
    "sgd = SGD(lr=lrate, momentum=0.9, decay=decay, nesterov=False)\n",
    "\n",
    "model.compile(loss='categorical_crossentropy', optimizer=sgd, metrics=['accuracy'])"
   ]
  },
  {
   "cell_type": "code",
   "execution_count": null,
   "metadata": {
    "collapsed": true
   },
   "outputs": [],
   "source": []
  }
 ],
 "metadata": {
  "anaconda-cloud": {},
  "kernelspec": {
   "display_name": "Python [default]",
   "language": "python",
   "name": "python3"
  },
  "language_info": {
   "codemirror_mode": {
    "name": "ipython",
    "version": 3
   },
   "file_extension": ".py",
   "mimetype": "text/x-python",
   "name": "python",
   "nbconvert_exporter": "python",
   "pygments_lexer": "ipython3",
   "version": "3.5.2"
  }
 },
 "nbformat": 4,
 "nbformat_minor": 2
}
